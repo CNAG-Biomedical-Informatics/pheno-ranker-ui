{
 "cells": [
  {
   "cell_type": "markdown",
   "metadata": {},
   "source": [
    "---\n",
    "title: \"Binary representation table\"\n",
    "format: html\n",
    "execute:\n",
    "    eval: true\n",
    "jupyter: IRkernel\n",
    "---"
   ]
  },
  {
   "cell_type": "code",
   "execution_count": 34,
   "metadata": {
    "vscode": {
     "languageId": "r"
    }
   },
   "outputs": [],
   "source": [
    "library(jsonlite)\n",
    "library(DT)\n",
    "library(IRdisplay)\n",
    "library(htmlwidgets)"
   ]
  },
  {
   "cell_type": "code",
   "execution_count": 35,
   "metadata": {
    "vscode": {
     "languageId": "r"
    }
   },
   "outputs": [],
   "source": [
    "config_dir <- \"../phenoRankeR/inst/extdata/config\"\n",
    "json_data <- fromJSON(file.path(config_dir, \"pheno_blast_col_colors.json\"))"
   ]
  },
  {
   "cell_type": "code",
   "execution_count": 51,
   "metadata": {
    "vscode": {
     "languageId": "r"
    }
   },
   "outputs": [
    {
     "name": "stdout",
     "output_type": "stream",
     "text": [
      "[1] \"../data/user_data/pheno.ranker@playground.com/output/rankedPatients/20241006015118/20241006015118_alignment.csv\"\n"
     ]
    },
    {
     "data": {
      "text/html": [
       "<table class=\"dataframe\">\n",
       "<caption>A data.frame: 6 × 47</caption>\n",
       "<thead>\n",
       "\t<tr><th></th><th scope=col>Id</th><th scope=col>iron.deficiency.anaemia</th><th scope=col>thyroiditis</th><th scope=col>acute.bronchitis</th><th scope=col>asthma</th><th scope=col>dental.caries</th><th scope=col>Black.or.Black.British</th><th scope=col>Asian.or.Asian.British</th><th scope=col>British</th><th scope=col>African</th><th scope=col>⋯</th><th scope=col>X2021.09.24</th><th scope=col>Kilogram</th><th scope=col>BMI</th><th scope=col>X2021.09.24.1</th><th scope=col>Kilogram.per.Square.Meter</th><th scope=col>Height.standing</th><th scope=col>X2021.09.24.2</th><th scope=col>Centimeter</th><th scope=col>female</th><th scope=col>male</th></tr>\n",
       "\t<tr><th></th><th scope=col>&lt;chr&gt;</th><th scope=col>&lt;chr&gt;</th><th scope=col>&lt;chr&gt;</th><th scope=col>&lt;chr&gt;</th><th scope=col>&lt;chr&gt;</th><th scope=col>&lt;chr&gt;</th><th scope=col>&lt;chr&gt;</th><th scope=col>&lt;chr&gt;</th><th scope=col>&lt;chr&gt;</th><th scope=col>&lt;chr&gt;</th><th scope=col>⋯</th><th scope=col>&lt;chr&gt;</th><th scope=col>&lt;chr&gt;</th><th scope=col>&lt;chr&gt;</th><th scope=col>&lt;chr&gt;</th><th scope=col>&lt;chr&gt;</th><th scope=col>&lt;chr&gt;</th><th scope=col>&lt;chr&gt;</th><th scope=col>&lt;chr&gt;</th><th scope=col>&lt;chr&gt;</th><th scope=col>&lt;chr&gt;</th></tr>\n",
       "</thead>\n",
       "<tbody>\n",
       "\t<tr><th scope=row>1</th><td>Id       </td><td>diseases.ICD10:D50.diseaseCode.id.ICD10:D50</td><td>diseases.ICD10:E06.diseaseCode.id.ICD10:E06</td><td>diseases.ICD10:J40.diseaseCode.id.ICD10:J40</td><td>diseases.ICD10:J45.diseaseCode.id.ICD10:J45</td><td>diseases.ICD10:K02.diseaseCode.id.ICD10:K02</td><td>ethnicity.id.NCIT:C16352</td><td>ethnicity.id.NCIT:C41260</td><td>ethnicity.id.NCIT:C41261</td><td>ethnicity.id.NCIT:C42331</td><td>⋯</td><td>measures.LOINC:3141-9.date.2021-09-24</td><td>measures.LOINC:3141-9.measurementValue.quantity.unit.id.NCIT:C28252</td><td>measures.LOINC:35925-4.assayCode.id.LOINC:35925-4</td><td>measures.LOINC:35925-4.date.2021-09-24</td><td>measures.LOINC:35925-4.measurementValue.quantity.unit.id.NCIT:C49671</td><td>measures.LOINC:8308-9.assayCode.id.LOINC:8308-9</td><td>measures.LOINC:8308-9.date.2021-09-24</td><td>measures.LOINC:8308-9.measurementValue.quantity.unit.id.NCIT:C49668</td><td>sex.id.NCIT:C16576</td><td>sex.id.NCIT:C20197</td></tr>\n",
       "\t<tr><th scope=row>2</th><td>T|HG00100</td><td>0                                          </td><td>0                                          </td><td>0                                          </td><td>0                                          </td><td>0                                          </td><td>0                       </td><td>0                       </td><td>0                       </td><td>0                       </td><td>⋯</td><td>1                                    </td><td>1                                                                  </td><td>1                                                </td><td>1                                     </td><td>1                                                                   </td><td>1                                              </td><td>1                                    </td><td>1                                                                  </td><td>1                 </td><td>0                 </td></tr>\n",
       "\t<tr><th scope=row>3</th><td>R|HG00100</td><td>0                                          </td><td>0                                          </td><td>0                                          </td><td>0                                          </td><td>0                                          </td><td>0                       </td><td>0                       </td><td>0                       </td><td>0                       </td><td>⋯</td><td>1                                    </td><td>1                                                                  </td><td>1                                                </td><td>1                                     </td><td>1                                                                   </td><td>1                                              </td><td>1                                    </td><td>1                                                                  </td><td>1                 </td><td>0                 </td></tr>\n",
       "\t<tr><th scope=row>4</th><td>R|HG00102</td><td>0                                          </td><td>0                                          </td><td>0                                          </td><td>0                                          </td><td>0                                          </td><td>0                       </td><td>0                       </td><td>0                       </td><td>0                       </td><td>⋯</td><td>1                                    </td><td>1                                                                  </td><td>1                                                </td><td>1                                     </td><td>1                                                                   </td><td>1                                              </td><td>1                                    </td><td>1                                                                  </td><td>1                 </td><td>0                 </td></tr>\n",
       "\t<tr><th scope=row>5</th><td>R|HG00099</td><td>0                                          </td><td>0                                          </td><td>0                                          </td><td>0                                          </td><td>0                                          </td><td>0                       </td><td>1                       </td><td>0                       </td><td>0                       </td><td>⋯</td><td>1                                    </td><td>1                                                                  </td><td>1                                                </td><td>1                                     </td><td>1                                                                   </td><td>1                                              </td><td>1                                    </td><td>1                                                                  </td><td>1                 </td><td>0                 </td></tr>\n",
       "\t<tr><th scope=row>6</th><td>R|HG00106</td><td>0                                          </td><td>0                                          </td><td>0                                          </td><td>0                                          </td><td>0                                          </td><td>1                       </td><td>0                       </td><td>0                       </td><td>0                       </td><td>⋯</td><td>1                                    </td><td>1                                                                  </td><td>1                                                </td><td>1                                     </td><td>1                                                                   </td><td>1                                              </td><td>1                                    </td><td>1                                                                  </td><td>1                 </td><td>0                 </td></tr>\n",
       "</tbody>\n",
       "</table>\n"
      ],
      "text/latex": [
       "A data.frame: 6 × 47\n",
       "\\begin{tabular}{r|lllllllllllllllllllll}\n",
       "  & Id & iron.deficiency.anaemia & thyroiditis & acute.bronchitis & asthma & dental.caries & Black.or.Black.British & Asian.or.Asian.British & British & African & ⋯ & X2021.09.24 & Kilogram & BMI & X2021.09.24.1 & Kilogram.per.Square.Meter & Height.standing & X2021.09.24.2 & Centimeter & female & male\\\\\n",
       "  & <chr> & <chr> & <chr> & <chr> & <chr> & <chr> & <chr> & <chr> & <chr> & <chr> & ⋯ & <chr> & <chr> & <chr> & <chr> & <chr> & <chr> & <chr> & <chr> & <chr> & <chr>\\\\\n",
       "\\hline\n",
       "\t1 & Id        & diseases.ICD10:D50.diseaseCode.id.ICD10:D50 & diseases.ICD10:E06.diseaseCode.id.ICD10:E06 & diseases.ICD10:J40.diseaseCode.id.ICD10:J40 & diseases.ICD10:J45.diseaseCode.id.ICD10:J45 & diseases.ICD10:K02.diseaseCode.id.ICD10:K02 & ethnicity.id.NCIT:C16352 & ethnicity.id.NCIT:C41260 & ethnicity.id.NCIT:C41261 & ethnicity.id.NCIT:C42331 & ⋯ & measures.LOINC:3141-9.date.2021-09-24 & measures.LOINC:3141-9.measurementValue.quantity.unit.id.NCIT:C28252 & measures.LOINC:35925-4.assayCode.id.LOINC:35925-4 & measures.LOINC:35925-4.date.2021-09-24 & measures.LOINC:35925-4.measurementValue.quantity.unit.id.NCIT:C49671 & measures.LOINC:8308-9.assayCode.id.LOINC:8308-9 & measures.LOINC:8308-9.date.2021-09-24 & measures.LOINC:8308-9.measurementValue.quantity.unit.id.NCIT:C49668 & sex.id.NCIT:C16576 & sex.id.NCIT:C20197\\\\\n",
       "\t2 & T\\textbar{}HG00100 & 0                                           & 0                                           & 0                                           & 0                                           & 0                                           & 0                        & 0                        & 0                        & 0                        & ⋯ & 1                                     & 1                                                                   & 1                                                 & 1                                      & 1                                                                    & 1                                               & 1                                     & 1                                                                   & 1                  & 0                 \\\\\n",
       "\t3 & R\\textbar{}HG00100 & 0                                           & 0                                           & 0                                           & 0                                           & 0                                           & 0                        & 0                        & 0                        & 0                        & ⋯ & 1                                     & 1                                                                   & 1                                                 & 1                                      & 1                                                                    & 1                                               & 1                                     & 1                                                                   & 1                  & 0                 \\\\\n",
       "\t4 & R\\textbar{}HG00102 & 0                                           & 0                                           & 0                                           & 0                                           & 0                                           & 0                        & 0                        & 0                        & 0                        & ⋯ & 1                                     & 1                                                                   & 1                                                 & 1                                      & 1                                                                    & 1                                               & 1                                     & 1                                                                   & 1                  & 0                 \\\\\n",
       "\t5 & R\\textbar{}HG00099 & 0                                           & 0                                           & 0                                           & 0                                           & 0                                           & 0                        & 1                        & 0                        & 0                        & ⋯ & 1                                     & 1                                                                   & 1                                                 & 1                                      & 1                                                                    & 1                                               & 1                                     & 1                                                                   & 1                  & 0                 \\\\\n",
       "\t6 & R\\textbar{}HG00106 & 0                                           & 0                                           & 0                                           & 0                                           & 0                                           & 1                        & 0                        & 0                        & 0                        & ⋯ & 1                                     & 1                                                                   & 1                                                 & 1                                      & 1                                                                    & 1                                               & 1                                     & 1                                                                   & 1                  & 0                 \\\\\n",
       "\\end{tabular}\n"
      ],
      "text/markdown": [
       "\n",
       "A data.frame: 6 × 47\n",
       "\n",
       "| <!--/--> | Id &lt;chr&gt; | iron.deficiency.anaemia &lt;chr&gt; | thyroiditis &lt;chr&gt; | acute.bronchitis &lt;chr&gt; | asthma &lt;chr&gt; | dental.caries &lt;chr&gt; | Black.or.Black.British &lt;chr&gt; | Asian.or.Asian.British &lt;chr&gt; | British &lt;chr&gt; | African &lt;chr&gt; | ⋯ ⋯ | X2021.09.24 &lt;chr&gt; | Kilogram &lt;chr&gt; | BMI &lt;chr&gt; | X2021.09.24.1 &lt;chr&gt; | Kilogram.per.Square.Meter &lt;chr&gt; | Height.standing &lt;chr&gt; | X2021.09.24.2 &lt;chr&gt; | Centimeter &lt;chr&gt; | female &lt;chr&gt; | male &lt;chr&gt; |\n",
       "|---|---|---|---|---|---|---|---|---|---|---|---|---|---|---|---|---|---|---|---|---|---|\n",
       "| 1 | Id        | diseases.ICD10:D50.diseaseCode.id.ICD10:D50 | diseases.ICD10:E06.diseaseCode.id.ICD10:E06 | diseases.ICD10:J40.diseaseCode.id.ICD10:J40 | diseases.ICD10:J45.diseaseCode.id.ICD10:J45 | diseases.ICD10:K02.diseaseCode.id.ICD10:K02 | ethnicity.id.NCIT:C16352 | ethnicity.id.NCIT:C41260 | ethnicity.id.NCIT:C41261 | ethnicity.id.NCIT:C42331 | ⋯ | measures.LOINC:3141-9.date.2021-09-24 | measures.LOINC:3141-9.measurementValue.quantity.unit.id.NCIT:C28252 | measures.LOINC:35925-4.assayCode.id.LOINC:35925-4 | measures.LOINC:35925-4.date.2021-09-24 | measures.LOINC:35925-4.measurementValue.quantity.unit.id.NCIT:C49671 | measures.LOINC:8308-9.assayCode.id.LOINC:8308-9 | measures.LOINC:8308-9.date.2021-09-24 | measures.LOINC:8308-9.measurementValue.quantity.unit.id.NCIT:C49668 | sex.id.NCIT:C16576 | sex.id.NCIT:C20197 |\n",
       "| 2 | T|HG00100 | 0                                           | 0                                           | 0                                           | 0                                           | 0                                           | 0                        | 0                        | 0                        | 0                        | ⋯ | 1                                     | 1                                                                   | 1                                                 | 1                                      | 1                                                                    | 1                                               | 1                                     | 1                                                                   | 1                  | 0                  |\n",
       "| 3 | R|HG00100 | 0                                           | 0                                           | 0                                           | 0                                           | 0                                           | 0                        | 0                        | 0                        | 0                        | ⋯ | 1                                     | 1                                                                   | 1                                                 | 1                                      | 1                                                                    | 1                                               | 1                                     | 1                                                                   | 1                  | 0                  |\n",
       "| 4 | R|HG00102 | 0                                           | 0                                           | 0                                           | 0                                           | 0                                           | 0                        | 0                        | 0                        | 0                        | ⋯ | 1                                     | 1                                                                   | 1                                                 | 1                                      | 1                                                                    | 1                                               | 1                                     | 1                                                                   | 1                  | 0                  |\n",
       "| 5 | R|HG00099 | 0                                           | 0                                           | 0                                           | 0                                           | 0                                           | 0                        | 1                        | 0                        | 0                        | ⋯ | 1                                     | 1                                                                   | 1                                                 | 1                                      | 1                                                                    | 1                                               | 1                                     | 1                                                                   | 1                  | 0                  |\n",
       "| 6 | R|HG00106 | 0                                           | 0                                           | 0                                           | 0                                           | 0                                           | 1                        | 0                        | 0                        | 0                        | ⋯ | 1                                     | 1                                                                   | 1                                                 | 1                                      | 1                                                                    | 1                                               | 1                                     | 1                                                                   | 1                  | 0                  |\n",
       "\n"
      ],
      "text/plain": [
       "  Id        iron.deficiency.anaemia                    \n",
       "1 Id        diseases.ICD10:D50.diseaseCode.id.ICD10:D50\n",
       "2 T|HG00100 0                                          \n",
       "3 R|HG00100 0                                          \n",
       "4 R|HG00102 0                                          \n",
       "5 R|HG00099 0                                          \n",
       "6 R|HG00106 0                                          \n",
       "  thyroiditis                                \n",
       "1 diseases.ICD10:E06.diseaseCode.id.ICD10:E06\n",
       "2 0                                          \n",
       "3 0                                          \n",
       "4 0                                          \n",
       "5 0                                          \n",
       "6 0                                          \n",
       "  acute.bronchitis                           \n",
       "1 diseases.ICD10:J40.diseaseCode.id.ICD10:J40\n",
       "2 0                                          \n",
       "3 0                                          \n",
       "4 0                                          \n",
       "5 0                                          \n",
       "6 0                                          \n",
       "  asthma                                     \n",
       "1 diseases.ICD10:J45.diseaseCode.id.ICD10:J45\n",
       "2 0                                          \n",
       "3 0                                          \n",
       "4 0                                          \n",
       "5 0                                          \n",
       "6 0                                          \n",
       "  dental.caries                               Black.or.Black.British  \n",
       "1 diseases.ICD10:K02.diseaseCode.id.ICD10:K02 ethnicity.id.NCIT:C16352\n",
       "2 0                                           0                       \n",
       "3 0                                           0                       \n",
       "4 0                                           0                       \n",
       "5 0                                           0                       \n",
       "6 0                                           1                       \n",
       "  Asian.or.Asian.British   British                  African                  ⋯\n",
       "1 ethnicity.id.NCIT:C41260 ethnicity.id.NCIT:C41261 ethnicity.id.NCIT:C42331 ⋯\n",
       "2 0                        0                        0                        ⋯\n",
       "3 0                        0                        0                        ⋯\n",
       "4 0                        0                        0                        ⋯\n",
       "5 1                        0                        0                        ⋯\n",
       "6 0                        0                        0                        ⋯\n",
       "  X2021.09.24                          \n",
       "1 measures.LOINC:3141-9.date.2021-09-24\n",
       "2 1                                    \n",
       "3 1                                    \n",
       "4 1                                    \n",
       "5 1                                    \n",
       "6 1                                    \n",
       "  Kilogram                                                           \n",
       "1 measures.LOINC:3141-9.measurementValue.quantity.unit.id.NCIT:C28252\n",
       "2 1                                                                  \n",
       "3 1                                                                  \n",
       "4 1                                                                  \n",
       "5 1                                                                  \n",
       "6 1                                                                  \n",
       "  BMI                                              \n",
       "1 measures.LOINC:35925-4.assayCode.id.LOINC:35925-4\n",
       "2 1                                                \n",
       "3 1                                                \n",
       "4 1                                                \n",
       "5 1                                                \n",
       "6 1                                                \n",
       "  X2021.09.24.1                         \n",
       "1 measures.LOINC:35925-4.date.2021-09-24\n",
       "2 1                                     \n",
       "3 1                                     \n",
       "4 1                                     \n",
       "5 1                                     \n",
       "6 1                                     \n",
       "  Kilogram.per.Square.Meter                                           \n",
       "1 measures.LOINC:35925-4.measurementValue.quantity.unit.id.NCIT:C49671\n",
       "2 1                                                                   \n",
       "3 1                                                                   \n",
       "4 1                                                                   \n",
       "5 1                                                                   \n",
       "6 1                                                                   \n",
       "  Height.standing                                \n",
       "1 measures.LOINC:8308-9.assayCode.id.LOINC:8308-9\n",
       "2 1                                              \n",
       "3 1                                              \n",
       "4 1                                              \n",
       "5 1                                              \n",
       "6 1                                              \n",
       "  X2021.09.24.2                        \n",
       "1 measures.LOINC:8308-9.date.2021-09-24\n",
       "2 1                                    \n",
       "3 1                                    \n",
       "4 1                                    \n",
       "5 1                                    \n",
       "6 1                                    \n",
       "  Centimeter                                                         \n",
       "1 measures.LOINC:8308-9.measurementValue.quantity.unit.id.NCIT:C49668\n",
       "2 1                                                                  \n",
       "3 1                                                                  \n",
       "4 1                                                                  \n",
       "5 1                                                                  \n",
       "6 1                                                                  \n",
       "  female             male              \n",
       "1 sex.id.NCIT:C16576 sex.id.NCIT:C20197\n",
       "2 1                  0                 \n",
       "3 1                  0                 \n",
       "4 1                  0                 \n",
       "5 1                  0                 \n",
       "6 1                  0                 "
      ]
     },
     "metadata": {},
     "output_type": "display_data"
    }
   ],
   "source": [
    "user <- \"pheno.ranker@playground.com\"\n",
    "run_id <- \"20241006015118\" #working\n",
    "input_format <- \"bff\" #working\n",
    "\n",
    "# run_id <- \"20241006003308\" #not working\n",
    "# input_format <- \"json\" #not working\n",
    "\n",
    "user_dir <- file.path(\"../data/user_data\", user)\n",
    "out_dir <- file.path(user_dir, \"output/rankedPatients\", run_id)\n",
    "file_suffix <- \"_alignment.csv\"\n",
    "\n",
    "file_path <- file.path(out_dir, paste0(run_id, file_suffix))\n",
    "print(file_path)\n",
    "\n",
    "# binary representation of each patient\n",
    "bin_df <- read.table(\n",
    "    file_path,\n",
    "    header = TRUE,\n",
    "    sep = \";\",\n",
    "    row.names = NULL\n",
    ")\n",
    "head(bin_df)"
   ]
  },
  {
   "cell_type": "code",
   "execution_count": 52,
   "metadata": {
    "vscode": {
     "languageId": "r"
    }
   },
   "outputs": [],
   "source": [
    "# Function to generate HSLA colors with variable hue\n",
    "generate_hsla_colors <- function(h_start, h_end, fixed_s = 30, fixed_l = 80, fixed_a = 1) {\n",
    "  # Create a vector of hues in the range [h_start, h_end]\n",
    "  hues <- seq(h_start, h_end, by = 1)\n",
    "  \n",
    "  # Generate HSLA color strings\n",
    "  hsla_colors <- paste0(\"hsla(\", hues, \", \", fixed_s, \"%, \", fixed_l, \"%, \", fixed_a, \")\")\n",
    "  \n",
    "  return(hsla_colors)\n",
    "}\n",
    "\n",
    "hsla_colors <- generate_hsla_colors(1, 360)"
   ]
  },
  {
   "cell_type": "code",
   "execution_count": 55,
   "metadata": {
    "vscode": {
     "languageId": "r"
    }
   },
   "outputs": [
    {
     "name": "stdout",
     "output_type": "stream",
     "text": [
      "[1] \"No color map found, generating random colors\"\n",
      "[1] \"Top levels:\"\n",
      "[1] \"diseases\"                  \"ethnicity\"                \n",
      "[3] \"geographicOrigin\"          \"id\"                       \n",
      "[5] \"interventionsOrProcedures\" \"measures\"                 \n",
      "[7] \"sex\"                      \n",
      "[1] \"Colors:\"\n",
      "[1] \"hsla(349, 30%, 80%, 1)\" \"hsla(235, 30%, 80%, 1)\" \"hsla(330, 30%, 80%, 1)\"\n",
      "[4] \"hsla(317, 30%, 80%, 1)\" \"hsla(284, 30%, 80%, 1)\" \"hsla(23, 30%, 80%, 1)\" \n",
      "[7] \"hsla(199, 30%, 80%, 1)\"\n",
      "[1] \"Color map:\"\n",
      "                 diseases                 ethnicity          geographicOrigin \n",
      " \"hsla(349, 30%, 80%, 1)\"  \"hsla(235, 30%, 80%, 1)\"  \"hsla(330, 30%, 80%, 1)\" \n",
      "                       id interventionsOrProcedures                  measures \n",
      " \"hsla(317, 30%, 80%, 1)\"  \"hsla(284, 30%, 80%, 1)\"   \"hsla(23, 30%, 80%, 1)\" \n",
      "                      sex \n",
      " \"hsla(199, 30%, 80%, 1)\" \n",
      "[1] \"Color map:\"\n",
      "                 diseases                 ethnicity          geographicOrigin \n",
      " \"hsla(349, 30%, 80%, 1)\"  \"hsla(235, 30%, 80%, 1)\"  \"hsla(330, 30%, 80%, 1)\" \n",
      "                       id interventionsOrProcedures                  measures \n",
      " \"hsla(317, 30%, 80%, 1)\"  \"hsla(284, 30%, 80%, 1)\"   \"hsla(23, 30%, 80%, 1)\" \n",
      "                      sex \n",
      " \"hsla(199, 30%, 80%, 1)\" \n"
     ]
    },
    {
     "ename": "ERROR",
     "evalue": "Error in color_map[[x]]: subscript out of bounds\n",
     "output_type": "error",
     "traceback": [
      "Error in color_map[[x]]: subscript out of bounds\nTraceback:\n",
      "1. sapply(bin_df2[1, ], function(x) color_map[[x]])",
      "2. lapply(X = X, FUN = FUN, ...)",
      "3. FUN(X[[i]], ...)"
     ]
    }
   ],
   "source": [
    "json_path_row <- bin_df[1,]\n",
    "\n",
    "#remove everything after the first dot\n",
    "top_level_row <- gsub(\"\\\\..*\", \"\", json_path_row)\n",
    "top_level_row[1] <- \"top_level\"\n",
    "\n",
    "# add the top level row to the data frame\n",
    "bin_df2 <- rbind(top_level_row, bin_df)\n",
    "\n",
    "color_map <- NULL\n",
    "# color_map <- json_data[[input_format]]\n",
    "if (is.null(color_map)) {\n",
    "  print(\"No color map found, generating random colors\")\n",
    "  top_levels <- unique(top_level_row[-1])\n",
    "  print(\"Top levels:\")\n",
    "  print(top_levels)\n",
    "  colors <- sample(hsla_colors, length(top_levels))\n",
    "  print(\"Colors:\")\n",
    "  print(colors)\n",
    "  # create the color mapping in form of a list\n",
    "  color_map <- list()\n",
    "  for (i in 1:length(top_levels)) {\n",
    "    color_map[top_levels[i]] <- colors[i]\n",
    "  }\n",
    "}\n",
    "\n",
    "print(\"Color map:\")\n",
    "print(color_map)\n",
    "\n",
    "# add a new row containing the colors\n",
    "color_row <- unlist(sapply(\n",
    "  bin_df2[1,],\n",
    "  function(x) color_map[[x]]\n",
    "))\n",
    "color_row <- c(\"background-color\", color_row)\n",
    "\n",
    "# add the color row to the data frame\n",
    "bin_df2 <- rbind(color_row, bin_df2)\n",
    "\n",
    "head(bin_df2)"
   ]
  },
  {
   "cell_type": "code",
   "execution_count": 28,
   "metadata": {
    "vscode": {
     "languageId": "r"
    }
   },
   "outputs": [
    {
     "data": {
      "text/plain": [
       "\n",
       "                 diseases                 ethnicity          geographicOrigin \n",
       "                        5                         5                         5 \n",
       "                       id interventionsOrProcedures                  measures \n",
       "                       10                        10                         9 \n",
       "                      sex \n",
       "                        2 "
      ]
     },
     "metadata": {},
     "output_type": "display_data"
    },
    {
     "data": {
      "text/html": [
       "<style>\n",
       ".dl-inline {width: auto; margin:0; padding: 0}\n",
       ".dl-inline>dt, .dl-inline>dd {float: none; width: auto; display: inline-block}\n",
       ".dl-inline>dt::after {content: \":\\0020\"; padding-right: .5ex}\n",
       ".dl-inline>dt:not(:first-of-type) {padding-left: .5ex}\n",
       "</style><dl class=dl-inline><dt>diseases</dt><dd>'rgb(158, 1, 66)'</dd><dt>ethnicity</dt><dd>'rgb(213, 62, 79)'</dd><dt>geographicOrigin</dt><dd>'rgb(253, 174, 97)'</dd><dt>id</dt><dd>'rgb(189, 195, 199)'</dd><dt>interventionsOrProcedures</dt><dd>'rgb(255, 255, 191)'</dd><dt>measures</dt><dd>'rgb(171, 221, 164)'</dd><dt>sex</dt><dd>'rgb(94, 79, 162)'</dd></dl>\n"
      ],
      "text/latex": [
       "\\begin{description*}\n",
       "\\item[diseases] 'rgb(158, 1, 66)'\n",
       "\\item[ethnicity] 'rgb(213, 62, 79)'\n",
       "\\item[geographicOrigin] 'rgb(253, 174, 97)'\n",
       "\\item[id] 'rgb(189, 195, 199)'\n",
       "\\item[interventionsOrProcedures] 'rgb(255, 255, 191)'\n",
       "\\item[measures] 'rgb(171, 221, 164)'\n",
       "\\item[sex] 'rgb(94, 79, 162)'\n",
       "\\end{description*}\n"
      ],
      "text/markdown": [
       "diseases\n",
       ":   'rgb(158, 1, 66)'ethnicity\n",
       ":   'rgb(213, 62, 79)'geographicOrigin\n",
       ":   'rgb(253, 174, 97)'id\n",
       ":   'rgb(189, 195, 199)'interventionsOrProcedures\n",
       ":   'rgb(255, 255, 191)'measures\n",
       ":   'rgb(171, 221, 164)'sex\n",
       ":   'rgb(94, 79, 162)'\n",
       "\n"
      ],
      "text/plain": [
       "                 diseases                 ethnicity          geographicOrigin \n",
       "        \"rgb(158, 1, 66)\"        \"rgb(213, 62, 79)\"       \"rgb(253, 174, 97)\" \n",
       "                       id interventionsOrProcedures                  measures \n",
       "     \"rgb(189, 195, 199)\"      \"rgb(255, 255, 191)\"      \"rgb(171, 221, 164)\" \n",
       "                      sex \n",
       "       \"rgb(94, 79, 162)\" "
      ]
     },
     "metadata": {},
     "output_type": "display_data"
    },
    {
     "data": {
      "text/html": [
       "'&lt;th colspan=\"5\" style=\"background-color:rgb(158, 1, 66);\"&gt;diseases&lt;/th&gt;&lt;th colspan=\"5\" style=\"background-color:rgb(213, 62, 79);\"&gt;ethnicity&lt;/th&gt;&lt;th colspan=\"5\" style=\"background-color:rgb(253, 174, 97);\"&gt;geographicOrigin&lt;/th&gt;&lt;th colspan=\"10\" style=\"background-color:rgb(189, 195, 199);\"&gt;id&lt;/th&gt;&lt;th colspan=\"10\" style=\"background-color:rgb(255, 255, 191);\"&gt;interventionsOrProcedures&lt;/th&gt;&lt;th colspan=\"9\" style=\"background-color:rgb(171, 221, 164);\"&gt;measures&lt;/th&gt;&lt;th colspan=\"2\" style=\"background-color:rgb(94, 79, 162);\"&gt;sex&lt;/th&gt;'"
      ],
      "text/latex": [
       "'<th colspan=\"5\" style=\"background-color:rgb(158, 1, 66);\">diseases</th><th colspan=\"5\" style=\"background-color:rgb(213, 62, 79);\">ethnicity</th><th colspan=\"5\" style=\"background-color:rgb(253, 174, 97);\">geographicOrigin</th><th colspan=\"10\" style=\"background-color:rgb(189, 195, 199);\">id</th><th colspan=\"10\" style=\"background-color:rgb(255, 255, 191);\">interventionsOrProcedures</th><th colspan=\"9\" style=\"background-color:rgb(171, 221, 164);\">measures</th><th colspan=\"2\" style=\"background-color:rgb(94, 79, 162);\">sex</th>'"
      ],
      "text/markdown": [
       "'&lt;th colspan=\"5\" style=\"background-color:rgb(158, 1, 66);\"&gt;diseases&lt;/th&gt;&lt;th colspan=\"5\" style=\"background-color:rgb(213, 62, 79);\"&gt;ethnicity&lt;/th&gt;&lt;th colspan=\"5\" style=\"background-color:rgb(253, 174, 97);\"&gt;geographicOrigin&lt;/th&gt;&lt;th colspan=\"10\" style=\"background-color:rgb(189, 195, 199);\"&gt;id&lt;/th&gt;&lt;th colspan=\"10\" style=\"background-color:rgb(255, 255, 191);\"&gt;interventionsOrProcedures&lt;/th&gt;&lt;th colspan=\"9\" style=\"background-color:rgb(171, 221, 164);\"&gt;measures&lt;/th&gt;&lt;th colspan=\"2\" style=\"background-color:rgb(94, 79, 162);\"&gt;sex&lt;/th&gt;'"
      ],
      "text/plain": [
       "[1] \"<th colspan=\\\"5\\\" style=\\\"background-color:rgb(158, 1, 66);\\\">diseases</th><th colspan=\\\"5\\\" style=\\\"background-color:rgb(213, 62, 79);\\\">ethnicity</th><th colspan=\\\"5\\\" style=\\\"background-color:rgb(253, 174, 97);\\\">geographicOrigin</th><th colspan=\\\"10\\\" style=\\\"background-color:rgb(189, 195, 199);\\\">id</th><th colspan=\\\"10\\\" style=\\\"background-color:rgb(255, 255, 191);\\\">interventionsOrProcedures</th><th colspan=\\\"9\\\" style=\\\"background-color:rgb(171, 221, 164);\\\">measures</th><th colspan=\\\"2\\\" style=\\\"background-color:rgb(94, 79, 162);\\\">sex</th>\""
      ]
     },
     "metadata": {},
     "output_type": "display_data"
    }
   ],
   "source": [
    "# extra header row containing the top level value\n",
    "# while its cells are merged by top level\n",
    "\n",
    "top_level_to_count <- table(top_level_row[-1])\n",
    "top_level_to_count\n",
    "\n",
    "top_level_to_color <- setNames(\n",
    "  unique(color_row[-1]),\n",
    "  unique(top_level_row[-1])\n",
    ")\n",
    "\n",
    "top_level_to_color\n",
    "\n",
    "header_row <- paste(\n",
    "  sapply(names(top_level_to_count), function(name) {\n",
    "    colspan_value <- top_level_to_count[[name]]\n",
    "    color <- top_level_to_color[[name]]\n",
    "    sprintf(\n",
    "      '<th colspan=\"%d\" style=\"background-color:%s;\">%s</th>',\n",
    "      colspan_value, color, name\n",
    "    )\n",
    "  }),\n",
    "  collapse = \"\"  # Collapse into a single string\n",
    ")\n",
    "header_row"
   ]
  },
  {
   "cell_type": "code",
   "execution_count": 29,
   "metadata": {
    "vscode": {
     "languageId": "r"
    }
   },
   "outputs": [],
   "source": [
    "# JavaScript to prepend the header row\n",
    "headerCallback <- JS(\n",
    "  \"function(thead, data, start, end, display) {\",\n",
    "  sprintf(\"$(thead).closest('thead').prepend('<tr><th></th>%s</tr>');\", header_row),\n",
    "  \"}\"\n",
    ")\n",
    "\n",
    "\n",
    "# JavaScript to color the columns based on the values in the 2nd row of the data\n",
    "initComplete <- JS(\n",
    "  \"function(settings, json) {\",\n",
    "  \"$('tbody tr').each(function() {\",\n",
    "    # Loop over each column to set background color based on the value in the first row (background-color)\n",
    "    \"for (var i = 0; i < $('tbody tr:eq(0) td').length; i++) {\",\n",
    "      \"var color = $('tbody tr:eq(0)').find('td:eq(' + i + ')').text();\",\n",
    "      \"console.log(color);\",\n",
    "\n",
    "      # Apply background color to the cell\n",
    "      \"$('tbody tr').find('td:eq(' + i + ')').css('background-color', color);\",\n",
    "      \"$('thead th.sorting').eq(i).css('background-color', color);\",  # Apply background color to the header\n",
    "\n",
    "      # hide the row with the colors\n",
    "      \"$('tbody tr').eq(0).hide();\",\n",
    "    \"}\",\n",
    "  \"});\",\n",
    "  \"}\"\n",
    ")\n",
    "\n",
    "# remove row 2 and 3\n",
    "bin_df3 <- bin_df2[-c(2, 3),]\n",
    "\n",
    "dt <- datatable(\n",
    "  bin_df3,\n",
    "  rownames = FALSE,\n",
    "  escape = FALSE,\n",
    "  options = list(\n",
    "    headerCallback = headerCallback,\n",
    "    initComplete = initComplete\n",
    "  )\n",
    ")\n",
    "\n",
    "saved_wiget_path <- \"notebooks/saved_widgets\"\n",
    "widget_fn <- \"binary_representation.html\"\n",
    "\n",
    "saveWidget(\n",
    "  dt,\n",
    "  file.path(\n",
    "    saved_wiget_path,\n",
    "    widget_fn\n",
    "  )\n",
    ")\n"
   ]
  },
  {
   "cell_type": "code",
   "execution_count": 30,
   "metadata": {
    "vscode": {
     "languageId": "r"
    }
   },
   "outputs": [
    {
     "data": {
      "text/html": [
       "<iframe src='http://localhost:5500/jupyrenv/notebooks/saved_widgets/binary_representation.html' width='100%' height='500px'></iframe>"
      ]
     },
     "metadata": {},
     "output_type": "display_data"
    }
   ],
   "source": [
    "# make sure that vscode is running the live server\n",
    "live_server_path <- \"http://localhost:5500/jupyrenv/notebooks/saved_widgets\"\n",
    "iframe_src <- paste0(\n",
    "  live_server_path,\n",
    "  \"/\",\n",
    "  widget_fn\n",
    ")\n",
    "\n",
    "display_html(\n",
    "  paste0(\n",
    "    \"<iframe src='\",\n",
    "    iframe_src,\n",
    "    \"' width='100%' height='500px'></iframe>\"\n",
    "  )\n",
    ")"
   ]
  },
  {
   "cell_type": "code",
   "execution_count": null,
   "metadata": {
    "vscode": {
     "languageId": "r"
    }
   },
   "outputs": [],
   "source": []
  }
 ],
 "metadata": {
  "kernelspec": {
   "display_name": "R",
   "language": "R",
   "name": "ir"
  },
  "language_info": {
   "codemirror_mode": "r",
   "file_extension": ".r",
   "mimetype": "text/x-r-source",
   "name": "R",
   "pygments_lexer": "r",
   "version": "4.4.1"
  }
 },
 "nbformat": 4,
 "nbformat_minor": 2
}
