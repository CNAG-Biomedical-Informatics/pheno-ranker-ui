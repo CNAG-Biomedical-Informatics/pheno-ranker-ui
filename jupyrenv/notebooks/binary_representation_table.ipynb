{
 "cells": [
  {
   "cell_type": "markdown",
   "metadata": {},
   "source": [
    "---\n",
    "title: \"Binary representation table\"\n",
    "format: html\n",
    "execute:\n",
    "    eval: true\n",
    "jupyter: IRkernel\n",
    "---"
   ]
  },
  {
   "cell_type": "code",
   "execution_count": 34,
   "metadata": {
    "vscode": {
     "languageId": "r"
    }
   },
   "outputs": [],
   "source": [
    "library(jsonlite)\n",
    "library(DT)\n",
    "library(IRdisplay)\n",
    "library(htmlwidgets)"
   ]
  },
  {
   "cell_type": "code",
   "execution_count": 35,
   "metadata": {
    "vscode": {
     "languageId": "r"
    }
   },
   "outputs": [],
   "source": [
    "config_dir <- \"../phenoRankeR/inst/extdata/config\"\n",
    "json_data <- fromJSON(file.path(config_dir, \"pheno_blast_col_colors.json\"))"
   ]
  },
  {
   "cell_type": "code",
   "execution_count": 59,
   "metadata": {
    "vscode": {
     "languageId": "r"
    }
   },
   "outputs": [
    {
     "name": "stdout",
     "output_type": "stream",
     "text": [
      "[1] \"../data/user_data/pheno.ranker@playground.com/output/rankedPatients/20241006003308/20241006003308_alignment.csv\"\n"
     ]
    },
    {
     "data": {
      "text/html": [
       "<table class=\"dataframe\">\n",
       "<caption>A data.frame: 6 × 60</caption>\n",
       "<thead>\n",
       "\t<tr><th></th><th scope=col>Id</th><th scope=col>X18.24</th><th scope=col>X30.34</th><th scope=col>X45.49</th><th scope=col>X50.54</th><th scope=col>X55.59</th><th scope=col>X60.64</th><th scope=col>X65.69</th><th scope=col>X70.74</th><th scope=col>X75.79</th><th scope=col>⋯</th><th scope=col>id.PR_00000016</th><th scope=col>id.PR_00000017</th><th scope=col>id.PR_00000018</th><th scope=col>id.PR_00000019</th><th scope=col>id.PR_00000020</th><th scope=col>id.PR_00000021</th><th scope=col>id.PR_00000022</th><th scope=col>id.PR_00000023</th><th scope=col>id.PR_00000024</th><th scope=col>id.PR_00000025</th></tr>\n",
       "\t<tr><th></th><th scope=col>&lt;chr&gt;</th><th scope=col>&lt;chr&gt;</th><th scope=col>&lt;chr&gt;</th><th scope=col>&lt;chr&gt;</th><th scope=col>&lt;chr&gt;</th><th scope=col>&lt;chr&gt;</th><th scope=col>&lt;chr&gt;</th><th scope=col>&lt;chr&gt;</th><th scope=col>&lt;chr&gt;</th><th scope=col>&lt;chr&gt;</th><th scope=col>⋯</th><th scope=col>&lt;chr&gt;</th><th scope=col>&lt;chr&gt;</th><th scope=col>&lt;chr&gt;</th><th scope=col>&lt;chr&gt;</th><th scope=col>&lt;chr&gt;</th><th scope=col>&lt;chr&gt;</th><th scope=col>&lt;chr&gt;</th><th scope=col>&lt;chr&gt;</th><th scope=col>&lt;chr&gt;</th><th scope=col>&lt;chr&gt;</th></tr>\n",
       "</thead>\n",
       "<tbody>\n",
       "\t<tr><th scope=row>1</th><td>Id           </td><td>Age_Category.18-24</td><td>Age_Category.30-34</td><td>Age_Category.45-49</td><td>Age_Category.50-54</td><td>Age_Category.55-59</td><td>Age_Category.60-64</td><td>Age_Category.65-69</td><td>Age_Category.70-74</td><td>Age_Category.75-79</td><td>⋯</td><td>id.PR_00000016</td><td>id.PR_00000017</td><td>id.PR_00000018</td><td>id.PR_00000019</td><td>id.PR_00000020</td><td>id.PR_00000021</td><td>id.PR_00000022</td><td>id.PR_00000023</td><td>id.PR_00000024</td><td>id.PR_00000025</td></tr>\n",
       "\t<tr><th scope=row>2</th><td>T|PR_00000001</td><td>0                 </td><td>0                 </td><td>0                 </td><td>0                 </td><td>0                 </td><td>0                 </td><td>0                 </td><td>1                 </td><td>0                 </td><td>⋯</td><td>0             </td><td>0             </td><td>0             </td><td>0             </td><td>0             </td><td>0             </td><td>0             </td><td>0             </td><td>0             </td><td>0             </td></tr>\n",
       "\t<tr><th scope=row>3</th><td>R|PR_00000001</td><td>0                 </td><td>0                 </td><td>0                 </td><td>0                 </td><td>0                 </td><td>0                 </td><td>0                 </td><td>1                 </td><td>0                 </td><td>⋯</td><td>0             </td><td>0             </td><td>0             </td><td>0             </td><td>0             </td><td>0             </td><td>0             </td><td>0             </td><td>0             </td><td>0             </td></tr>\n",
       "\t<tr><th scope=row>4</th><td>R|PR_00000010</td><td>0                 </td><td>0                 </td><td>0                 </td><td>0                 </td><td>0                 </td><td>0                 </td><td>0                 </td><td>1                 </td><td>0                 </td><td>⋯</td><td>0             </td><td>0             </td><td>0             </td><td>0             </td><td>0             </td><td>0             </td><td>0             </td><td>0             </td><td>0             </td><td>0             </td></tr>\n",
       "\t<tr><th scope=row>5</th><td>R|PR_00000015</td><td>0                 </td><td>0                 </td><td>0                 </td><td>0                 </td><td>0                 </td><td>0                 </td><td>0                 </td><td>1                 </td><td>0                 </td><td>⋯</td><td>0             </td><td>0             </td><td>0             </td><td>0             </td><td>0             </td><td>0             </td><td>0             </td><td>0             </td><td>0             </td><td>0             </td></tr>\n",
       "\t<tr><th scope=row>6</th><td>R|PR_00000016</td><td>0                 </td><td>0                 </td><td>0                 </td><td>0                 </td><td>0                 </td><td>0                 </td><td>0                 </td><td>1                 </td><td>0                 </td><td>⋯</td><td>1             </td><td>0             </td><td>0             </td><td>0             </td><td>0             </td><td>0             </td><td>0             </td><td>0             </td><td>0             </td><td>0             </td></tr>\n",
       "</tbody>\n",
       "</table>\n"
      ],
      "text/latex": [
       "A data.frame: 6 × 60\n",
       "\\begin{tabular}{r|lllllllllllllllllllll}\n",
       "  & Id & X18.24 & X30.34 & X45.49 & X50.54 & X55.59 & X60.64 & X65.69 & X70.74 & X75.79 & ⋯ & id.PR\\_00000016 & id.PR\\_00000017 & id.PR\\_00000018 & id.PR\\_00000019 & id.PR\\_00000020 & id.PR\\_00000021 & id.PR\\_00000022 & id.PR\\_00000023 & id.PR\\_00000024 & id.PR\\_00000025\\\\\n",
       "  & <chr> & <chr> & <chr> & <chr> & <chr> & <chr> & <chr> & <chr> & <chr> & <chr> & ⋯ & <chr> & <chr> & <chr> & <chr> & <chr> & <chr> & <chr> & <chr> & <chr> & <chr>\\\\\n",
       "\\hline\n",
       "\t1 & Id            & Age\\_Category.18-24 & Age\\_Category.30-34 & Age\\_Category.45-49 & Age\\_Category.50-54 & Age\\_Category.55-59 & Age\\_Category.60-64 & Age\\_Category.65-69 & Age\\_Category.70-74 & Age\\_Category.75-79 & ⋯ & id.PR\\_00000016 & id.PR\\_00000017 & id.PR\\_00000018 & id.PR\\_00000019 & id.PR\\_00000020 & id.PR\\_00000021 & id.PR\\_00000022 & id.PR\\_00000023 & id.PR\\_00000024 & id.PR\\_00000025\\\\\n",
       "\t2 & T\\textbar{}PR\\_00000001 & 0                  & 0                  & 0                  & 0                  & 0                  & 0                  & 0                  & 1                  & 0                  & ⋯ & 0              & 0              & 0              & 0              & 0              & 0              & 0              & 0              & 0              & 0             \\\\\n",
       "\t3 & R\\textbar{}PR\\_00000001 & 0                  & 0                  & 0                  & 0                  & 0                  & 0                  & 0                  & 1                  & 0                  & ⋯ & 0              & 0              & 0              & 0              & 0              & 0              & 0              & 0              & 0              & 0             \\\\\n",
       "\t4 & R\\textbar{}PR\\_00000010 & 0                  & 0                  & 0                  & 0                  & 0                  & 0                  & 0                  & 1                  & 0                  & ⋯ & 0              & 0              & 0              & 0              & 0              & 0              & 0              & 0              & 0              & 0             \\\\\n",
       "\t5 & R\\textbar{}PR\\_00000015 & 0                  & 0                  & 0                  & 0                  & 0                  & 0                  & 0                  & 1                  & 0                  & ⋯ & 0              & 0              & 0              & 0              & 0              & 0              & 0              & 0              & 0              & 0             \\\\\n",
       "\t6 & R\\textbar{}PR\\_00000016 & 0                  & 0                  & 0                  & 0                  & 0                  & 0                  & 0                  & 1                  & 0                  & ⋯ & 1              & 0              & 0              & 0              & 0              & 0              & 0              & 0              & 0              & 0             \\\\\n",
       "\\end{tabular}\n"
      ],
      "text/markdown": [
       "\n",
       "A data.frame: 6 × 60\n",
       "\n",
       "| <!--/--> | Id &lt;chr&gt; | X18.24 &lt;chr&gt; | X30.34 &lt;chr&gt; | X45.49 &lt;chr&gt; | X50.54 &lt;chr&gt; | X55.59 &lt;chr&gt; | X60.64 &lt;chr&gt; | X65.69 &lt;chr&gt; | X70.74 &lt;chr&gt; | X75.79 &lt;chr&gt; | ⋯ ⋯ | id.PR_00000016 &lt;chr&gt; | id.PR_00000017 &lt;chr&gt; | id.PR_00000018 &lt;chr&gt; | id.PR_00000019 &lt;chr&gt; | id.PR_00000020 &lt;chr&gt; | id.PR_00000021 &lt;chr&gt; | id.PR_00000022 &lt;chr&gt; | id.PR_00000023 &lt;chr&gt; | id.PR_00000024 &lt;chr&gt; | id.PR_00000025 &lt;chr&gt; |\n",
       "|---|---|---|---|---|---|---|---|---|---|---|---|---|---|---|---|---|---|---|---|---|---|\n",
       "| 1 | Id            | Age_Category.18-24 | Age_Category.30-34 | Age_Category.45-49 | Age_Category.50-54 | Age_Category.55-59 | Age_Category.60-64 | Age_Category.65-69 | Age_Category.70-74 | Age_Category.75-79 | ⋯ | id.PR_00000016 | id.PR_00000017 | id.PR_00000018 | id.PR_00000019 | id.PR_00000020 | id.PR_00000021 | id.PR_00000022 | id.PR_00000023 | id.PR_00000024 | id.PR_00000025 |\n",
       "| 2 | T|PR_00000001 | 0                  | 0                  | 0                  | 0                  | 0                  | 0                  | 0                  | 1                  | 0                  | ⋯ | 0              | 0              | 0              | 0              | 0              | 0              | 0              | 0              | 0              | 0              |\n",
       "| 3 | R|PR_00000001 | 0                  | 0                  | 0                  | 0                  | 0                  | 0                  | 0                  | 1                  | 0                  | ⋯ | 0              | 0              | 0              | 0              | 0              | 0              | 0              | 0              | 0              | 0              |\n",
       "| 4 | R|PR_00000010 | 0                  | 0                  | 0                  | 0                  | 0                  | 0                  | 0                  | 1                  | 0                  | ⋯ | 0              | 0              | 0              | 0              | 0              | 0              | 0              | 0              | 0              | 0              |\n",
       "| 5 | R|PR_00000015 | 0                  | 0                  | 0                  | 0                  | 0                  | 0                  | 0                  | 1                  | 0                  | ⋯ | 0              | 0              | 0              | 0              | 0              | 0              | 0              | 0              | 0              | 0              |\n",
       "| 6 | R|PR_00000016 | 0                  | 0                  | 0                  | 0                  | 0                  | 0                  | 0                  | 1                  | 0                  | ⋯ | 1              | 0              | 0              | 0              | 0              | 0              | 0              | 0              | 0              | 0              |\n",
       "\n"
      ],
      "text/plain": [
       "  Id            X18.24             X30.34             X45.49            \n",
       "1 Id            Age_Category.18-24 Age_Category.30-34 Age_Category.45-49\n",
       "2 T|PR_00000001 0                  0                  0                 \n",
       "3 R|PR_00000001 0                  0                  0                 \n",
       "4 R|PR_00000010 0                  0                  0                 \n",
       "5 R|PR_00000015 0                  0                  0                 \n",
       "6 R|PR_00000016 0                  0                  0                 \n",
       "  X50.54             X55.59             X60.64             X65.69            \n",
       "1 Age_Category.50-54 Age_Category.55-59 Age_Category.60-64 Age_Category.65-69\n",
       "2 0                  0                  0                  0                 \n",
       "3 0                  0                  0                  0                 \n",
       "4 0                  0                  0                  0                 \n",
       "5 0                  0                  0                  0                 \n",
       "6 0                  0                  0                  0                 \n",
       "  X70.74             X75.79             ⋯ id.PR_00000016 id.PR_00000017\n",
       "1 Age_Category.70-74 Age_Category.75-79 ⋯ id.PR_00000016 id.PR_00000017\n",
       "2 1                  0                  ⋯ 0              0             \n",
       "3 1                  0                  ⋯ 0              0             \n",
       "4 1                  0                  ⋯ 0              0             \n",
       "5 1                  0                  ⋯ 0              0             \n",
       "6 1                  0                  ⋯ 1              0             \n",
       "  id.PR_00000018 id.PR_00000019 id.PR_00000020 id.PR_00000021 id.PR_00000022\n",
       "1 id.PR_00000018 id.PR_00000019 id.PR_00000020 id.PR_00000021 id.PR_00000022\n",
       "2 0              0              0              0              0             \n",
       "3 0              0              0              0              0             \n",
       "4 0              0              0              0              0             \n",
       "5 0              0              0              0              0             \n",
       "6 0              0              0              0              0             \n",
       "  id.PR_00000023 id.PR_00000024 id.PR_00000025\n",
       "1 id.PR_00000023 id.PR_00000024 id.PR_00000025\n",
       "2 0              0              0             \n",
       "3 0              0              0             \n",
       "4 0              0              0             \n",
       "5 0              0              0             \n",
       "6 0              0              0             "
      ]
     },
     "metadata": {},
     "output_type": "display_data"
    }
   ],
   "source": [
    "user <- \"pheno.ranker@playground.com\"\n",
    "run_id <- \"20241006015118\" #working\n",
    "input_format <- \"bff\" #working\n",
    "\n",
    "run_id <- \"20241006003308\" #not working\n",
    "input_format <- \"json\" #not working\n",
    "\n",
    "user_dir <- file.path(\"../data/user_data\", user)\n",
    "out_dir <- file.path(user_dir, \"output/rankedPatients\", run_id)\n",
    "file_suffix <- \"_alignment.csv\"\n",
    "\n",
    "file_path <- file.path(out_dir, paste0(run_id, file_suffix))\n",
    "print(file_path)\n",
    "\n",
    "# binary representation of each patient\n",
    "bin_df <- read.table(\n",
    "    file_path,\n",
    "    header = TRUE,\n",
    "    sep = \";\",\n",
    "    row.names = NULL\n",
    ")\n",
    "head(bin_df)"
   ]
  },
  {
   "cell_type": "code",
   "execution_count": 60,
   "metadata": {
    "vscode": {
     "languageId": "r"
    }
   },
   "outputs": [],
   "source": [
    "# Function to generate HSLA colors with variable hue\n",
    "generate_hsla_colors <- function(h_start, h_end, fixed_s = 30, fixed_l = 80, fixed_a = 1) {\n",
    "  # Create a vector of hues in the range [h_start, h_end]\n",
    "  hues <- seq(h_start, h_end, by = 1)\n",
    "  \n",
    "  # Generate HSLA color strings\n",
    "  hsla_colors <- paste0(\"hsla(\", hues, \", \", fixed_s, \"%, \", fixed_l, \"%, \", fixed_a, \")\")\n",
    "  \n",
    "  return(hsla_colors)\n",
    "}\n",
    "\n",
    "hsla_colors <- generate_hsla_colors(1, 360)"
   ]
  },
  {
   "cell_type": "code",
   "execution_count": 106,
   "metadata": {
    "vscode": {
     "languageId": "r"
    }
   },
   "outputs": [
    {
     "name": "stdout",
     "output_type": "stream",
     "text": [
      "[1] \"simplified_first_row\"\n",
      "                 X18.24                  X30.34                  X45.49 \n",
      "         \"Age_Category\"          \"Age_Category\"          \"Age_Category\" \n",
      "                 X50.54                  X55.59                  X60.64 \n",
      "         \"Age_Category\"          \"Age_Category\"          \"Age_Category\" \n",
      "                 X65.69                  X70.74                  X75.79 \n",
      "         \"Age_Category\"          \"Age_Category\"          \"Age_Category\" \n",
      "                   X80.                      No                     Yes \n",
      "         \"Age_Category\"             \"Arthritis\"             \"Arthritis\" \n",
      "   X5.or.more.years.ago Within.the.past.2.years    Within.the.past.year \n",
      "              \"Checkup\"               \"Checkup\"               \"Checkup\" \n",
      "                   No.1                   Yes.1                    No.2 \n",
      "           \"Depression\"            \"Depression\"              \"Diabetes\" \n",
      "                  Yes.2                    No.3                   Yes.3 \n",
      "             \"Diabetes\"              \"Exercise\"              \"Exercise\" \n",
      "              Excellent                    Fair                    Good \n",
      "       \"General_Health\"        \"General_Health\"        \"General_Health\" \n",
      "                   Poor               Very.Good                    No.4 \n",
      "       \"General_Health\"        \"General_Health\"         \"Heart_Disease\" \n",
      "                  Yes.4                    No.5                   Yes.5 \n",
      "        \"Heart_Disease\"          \"Other_Cancer\"          \"Other_Cancer\" \n",
      "                 Female                    Male                    No.6 \n",
      "                  \"Sex\"                   \"Sex\"           \"Skin_Cancer\" \n",
      "                  Yes.6          id.PR_00000001          id.PR_00000002 \n",
      "          \"Skin_Cancer\"                    \"id\"                    \"id\" \n",
      "         id.PR_00000003          id.PR_00000004          id.PR_00000005 \n",
      "                   \"id\"                    \"id\"                    \"id\" \n",
      "         id.PR_00000006          id.PR_00000007          id.PR_00000008 \n",
      "                   \"id\"                    \"id\"                    \"id\" \n",
      "         id.PR_00000009          id.PR_00000010          id.PR_00000011 \n",
      "                   \"id\"                    \"id\"                    \"id\" \n",
      "         id.PR_00000012          id.PR_00000013          id.PR_00000014 \n",
      "                   \"id\"                    \"id\"                    \"id\" \n",
      "         id.PR_00000015          id.PR_00000016          id.PR_00000017 \n",
      "                   \"id\"                    \"id\"                    \"id\" \n",
      "         id.PR_00000018          id.PR_00000019          id.PR_00000020 \n",
      "                   \"id\"                    \"id\"                    \"id\" \n",
      "         id.PR_00000021          id.PR_00000022          id.PR_00000023 \n",
      "                   \"id\"                    \"id\"                    \"id\" \n",
      "         id.PR_00000024          id.PR_00000025 \n",
      "                   \"id\"                    \"id\" \n",
      "[1] \"No color map found, generating random colors\"\n",
      "[1] \"Color map:\"\n",
      "$Age_Category\n",
      "[1] \"hsla(46, 30%, 80%, 1)\"\n",
      "\n",
      "$Arthritis\n",
      "[1] \"hsla(150, 30%, 80%, 1)\"\n",
      "\n",
      "$Checkup\n",
      "[1] \"hsla(334, 30%, 80%, 1)\"\n",
      "\n",
      "$Depression\n",
      "[1] \"hsla(310, 30%, 80%, 1)\"\n",
      "\n",
      "$Diabetes\n",
      "[1] \"hsla(255, 30%, 80%, 1)\"\n",
      "\n",
      "$Exercise\n",
      "[1] \"hsla(76, 30%, 80%, 1)\"\n",
      "\n",
      "$General_Health\n",
      "[1] \"hsla(127, 30%, 80%, 1)\"\n",
      "\n",
      "$Heart_Disease\n",
      "[1] \"hsla(312, 30%, 80%, 1)\"\n",
      "\n",
      "$Other_Cancer\n",
      "[1] \"hsla(350, 30%, 80%, 1)\"\n",
      "\n",
      "$Sex\n",
      "[1] \"hsla(129, 30%, 80%, 1)\"\n",
      "\n",
      "$Skin_Cancer\n",
      "[1] \"hsla(28, 30%, 80%, 1)\"\n",
      "\n",
      "$id\n",
      "[1] \"hsla(238, 30%, 80%, 1)\"\n",
      "\n"
     ]
    },
    {
     "data": {
      "text/html": [
       "<table class=\"dataframe\">\n",
       "<caption>A data.frame: 6 × 60</caption>\n",
       "<thead>\n",
       "\t<tr><th></th><th scope=col>Id</th><th scope=col>X18.24</th><th scope=col>X30.34</th><th scope=col>X45.49</th><th scope=col>X50.54</th><th scope=col>X55.59</th><th scope=col>X60.64</th><th scope=col>X65.69</th><th scope=col>X70.74</th><th scope=col>X75.79</th><th scope=col>⋯</th><th scope=col>id.PR_00000022</th><th scope=col>id.PR_00000023</th><th scope=col>id.PR_00000024</th><th scope=col>id.PR_00000025</th><th scope=col>No.5</th><th scope=col>Yes.5</th><th scope=col>Female</th><th scope=col>Male</th><th scope=col>No.6</th><th scope=col>Yes.6</th></tr>\n",
       "\t<tr><th></th><th scope=col>&lt;chr&gt;</th><th scope=col>&lt;chr&gt;</th><th scope=col>&lt;chr&gt;</th><th scope=col>&lt;chr&gt;</th><th scope=col>&lt;chr&gt;</th><th scope=col>&lt;chr&gt;</th><th scope=col>&lt;chr&gt;</th><th scope=col>&lt;chr&gt;</th><th scope=col>&lt;chr&gt;</th><th scope=col>&lt;chr&gt;</th><th scope=col>⋯</th><th scope=col>&lt;chr&gt;</th><th scope=col>&lt;chr&gt;</th><th scope=col>&lt;chr&gt;</th><th scope=col>&lt;chr&gt;</th><th scope=col>&lt;chr&gt;</th><th scope=col>&lt;chr&gt;</th><th scope=col>&lt;chr&gt;</th><th scope=col>&lt;chr&gt;</th><th scope=col>&lt;chr&gt;</th><th scope=col>&lt;chr&gt;</th></tr>\n",
       "</thead>\n",
       "<tbody>\n",
       "\t<tr><th scope=row>1</th><td>background-color</td><td>hsla(46, 30%, 80%, 1)</td><td>hsla(46, 30%, 80%, 1)</td><td>hsla(46, 30%, 80%, 1)</td><td>hsla(46, 30%, 80%, 1)</td><td>hsla(46, 30%, 80%, 1)</td><td>hsla(46, 30%, 80%, 1)</td><td>hsla(46, 30%, 80%, 1)</td><td>hsla(46, 30%, 80%, 1)</td><td>hsla(46, 30%, 80%, 1)</td><td>⋯</td><td>hsla(238, 30%, 80%, 1)</td><td>hsla(238, 30%, 80%, 1)</td><td>hsla(238, 30%, 80%, 1)</td><td>hsla(238, 30%, 80%, 1)</td><td>hsla(350, 30%, 80%, 1)</td><td>hsla(350, 30%, 80%, 1)</td><td>hsla(129, 30%, 80%, 1)</td><td>hsla(129, 30%, 80%, 1)</td><td>hsla(28, 30%, 80%, 1)</td><td>hsla(28, 30%, 80%, 1)</td></tr>\n",
       "\t<tr><th scope=row>2</th><td>top_level       </td><td>Age_Category         </td><td>Age_Category         </td><td>Age_Category         </td><td>Age_Category         </td><td>Age_Category         </td><td>Age_Category         </td><td>Age_Category         </td><td>Age_Category         </td><td>Age_Category         </td><td>⋯</td><td>id                    </td><td>id                    </td><td>id                    </td><td>id                    </td><td>Other_Cancer          </td><td>Other_Cancer          </td><td>Sex                   </td><td>Sex                   </td><td>Skin_Cancer          </td><td>Skin_Cancer          </td></tr>\n",
       "\t<tr><th scope=row>3</th><td>Id              </td><td>Age_Category.18-24   </td><td>Age_Category.30-34   </td><td>Age_Category.45-49   </td><td>Age_Category.50-54   </td><td>Age_Category.55-59   </td><td>Age_Category.60-64   </td><td>Age_Category.65-69   </td><td>Age_Category.70-74   </td><td>Age_Category.75-79   </td><td>⋯</td><td>id.PR_00000022        </td><td>id.PR_00000023        </td><td>id.PR_00000024        </td><td>id.PR_00000025        </td><td>Other_Cancer.No       </td><td>Other_Cancer.Yes      </td><td>Sex.Female            </td><td>Sex.Male              </td><td>Skin_Cancer.No       </td><td>Skin_Cancer.Yes      </td></tr>\n",
       "\t<tr><th scope=row>4</th><td>T|PR_00000001   </td><td>0                    </td><td>0                    </td><td>0                    </td><td>0                    </td><td>0                    </td><td>0                    </td><td>0                    </td><td>1                    </td><td>0                    </td><td>⋯</td><td>0                     </td><td>0                     </td><td>0                     </td><td>0                     </td><td>1                     </td><td>0                     </td><td>1                     </td><td>0                     </td><td>1                    </td><td>0                    </td></tr>\n",
       "\t<tr><th scope=row>5</th><td>R|PR_00000001   </td><td>0                    </td><td>0                    </td><td>0                    </td><td>0                    </td><td>0                    </td><td>0                    </td><td>0                    </td><td>1                    </td><td>0                    </td><td>⋯</td><td>0                     </td><td>0                     </td><td>0                     </td><td>0                     </td><td>1                     </td><td>0                     </td><td>1                     </td><td>0                     </td><td>1                    </td><td>0                    </td></tr>\n",
       "\t<tr><th scope=row>6</th><td>R|PR_00000010   </td><td>0                    </td><td>0                    </td><td>0                    </td><td>0                    </td><td>0                    </td><td>0                    </td><td>0                    </td><td>1                    </td><td>0                    </td><td>⋯</td><td>0                     </td><td>0                     </td><td>0                     </td><td>0                     </td><td>1                     </td><td>0                     </td><td>1                     </td><td>0                     </td><td>1                    </td><td>0                    </td></tr>\n",
       "</tbody>\n",
       "</table>\n"
      ],
      "text/latex": [
       "A data.frame: 6 × 60\n",
       "\\begin{tabular}{r|lllllllllllllllllllll}\n",
       "  & Id & X18.24 & X30.34 & X45.49 & X50.54 & X55.59 & X60.64 & X65.69 & X70.74 & X75.79 & ⋯ & id.PR\\_00000022 & id.PR\\_00000023 & id.PR\\_00000024 & id.PR\\_00000025 & No.5 & Yes.5 & Female & Male & No.6 & Yes.6\\\\\n",
       "  & <chr> & <chr> & <chr> & <chr> & <chr> & <chr> & <chr> & <chr> & <chr> & <chr> & ⋯ & <chr> & <chr> & <chr> & <chr> & <chr> & <chr> & <chr> & <chr> & <chr> & <chr>\\\\\n",
       "\\hline\n",
       "\t1 & background-color & hsla(46, 30\\%, 80\\%, 1) & hsla(46, 30\\%, 80\\%, 1) & hsla(46, 30\\%, 80\\%, 1) & hsla(46, 30\\%, 80\\%, 1) & hsla(46, 30\\%, 80\\%, 1) & hsla(46, 30\\%, 80\\%, 1) & hsla(46, 30\\%, 80\\%, 1) & hsla(46, 30\\%, 80\\%, 1) & hsla(46, 30\\%, 80\\%, 1) & ⋯ & hsla(238, 30\\%, 80\\%, 1) & hsla(238, 30\\%, 80\\%, 1) & hsla(238, 30\\%, 80\\%, 1) & hsla(238, 30\\%, 80\\%, 1) & hsla(350, 30\\%, 80\\%, 1) & hsla(350, 30\\%, 80\\%, 1) & hsla(129, 30\\%, 80\\%, 1) & hsla(129, 30\\%, 80\\%, 1) & hsla(28, 30\\%, 80\\%, 1) & hsla(28, 30\\%, 80\\%, 1)\\\\\n",
       "\t2 & top\\_level        & Age\\_Category          & Age\\_Category          & Age\\_Category          & Age\\_Category          & Age\\_Category          & Age\\_Category          & Age\\_Category          & Age\\_Category          & Age\\_Category          & ⋯ & id                     & id                     & id                     & id                     & Other\\_Cancer           & Other\\_Cancer           & Sex                    & Sex                    & Skin\\_Cancer           & Skin\\_Cancer          \\\\\n",
       "\t3 & Id               & Age\\_Category.18-24    & Age\\_Category.30-34    & Age\\_Category.45-49    & Age\\_Category.50-54    & Age\\_Category.55-59    & Age\\_Category.60-64    & Age\\_Category.65-69    & Age\\_Category.70-74    & Age\\_Category.75-79    & ⋯ & id.PR\\_00000022         & id.PR\\_00000023         & id.PR\\_00000024         & id.PR\\_00000025         & Other\\_Cancer.No        & Other\\_Cancer.Yes       & Sex.Female             & Sex.Male               & Skin\\_Cancer.No        & Skin\\_Cancer.Yes      \\\\\n",
       "\t4 & T\\textbar{}PR\\_00000001    & 0                     & 0                     & 0                     & 0                     & 0                     & 0                     & 0                     & 1                     & 0                     & ⋯ & 0                      & 0                      & 0                      & 0                      & 1                      & 0                      & 1                      & 0                      & 1                     & 0                    \\\\\n",
       "\t5 & R\\textbar{}PR\\_00000001    & 0                     & 0                     & 0                     & 0                     & 0                     & 0                     & 0                     & 1                     & 0                     & ⋯ & 0                      & 0                      & 0                      & 0                      & 1                      & 0                      & 1                      & 0                      & 1                     & 0                    \\\\\n",
       "\t6 & R\\textbar{}PR\\_00000010    & 0                     & 0                     & 0                     & 0                     & 0                     & 0                     & 0                     & 1                     & 0                     & ⋯ & 0                      & 0                      & 0                      & 0                      & 1                      & 0                      & 1                      & 0                      & 1                     & 0                    \\\\\n",
       "\\end{tabular}\n"
      ],
      "text/markdown": [
       "\n",
       "A data.frame: 6 × 60\n",
       "\n",
       "| <!--/--> | Id &lt;chr&gt; | X18.24 &lt;chr&gt; | X30.34 &lt;chr&gt; | X45.49 &lt;chr&gt; | X50.54 &lt;chr&gt; | X55.59 &lt;chr&gt; | X60.64 &lt;chr&gt; | X65.69 &lt;chr&gt; | X70.74 &lt;chr&gt; | X75.79 &lt;chr&gt; | ⋯ ⋯ | id.PR_00000022 &lt;chr&gt; | id.PR_00000023 &lt;chr&gt; | id.PR_00000024 &lt;chr&gt; | id.PR_00000025 &lt;chr&gt; | No.5 &lt;chr&gt; | Yes.5 &lt;chr&gt; | Female &lt;chr&gt; | Male &lt;chr&gt; | No.6 &lt;chr&gt; | Yes.6 &lt;chr&gt; |\n",
       "|---|---|---|---|---|---|---|---|---|---|---|---|---|---|---|---|---|---|---|---|---|---|\n",
       "| 1 | background-color | hsla(46, 30%, 80%, 1) | hsla(46, 30%, 80%, 1) | hsla(46, 30%, 80%, 1) | hsla(46, 30%, 80%, 1) | hsla(46, 30%, 80%, 1) | hsla(46, 30%, 80%, 1) | hsla(46, 30%, 80%, 1) | hsla(46, 30%, 80%, 1) | hsla(46, 30%, 80%, 1) | ⋯ | hsla(238, 30%, 80%, 1) | hsla(238, 30%, 80%, 1) | hsla(238, 30%, 80%, 1) | hsla(238, 30%, 80%, 1) | hsla(350, 30%, 80%, 1) | hsla(350, 30%, 80%, 1) | hsla(129, 30%, 80%, 1) | hsla(129, 30%, 80%, 1) | hsla(28, 30%, 80%, 1) | hsla(28, 30%, 80%, 1) |\n",
       "| 2 | top_level        | Age_Category          | Age_Category          | Age_Category          | Age_Category          | Age_Category          | Age_Category          | Age_Category          | Age_Category          | Age_Category          | ⋯ | id                     | id                     | id                     | id                     | Other_Cancer           | Other_Cancer           | Sex                    | Sex                    | Skin_Cancer           | Skin_Cancer           |\n",
       "| 3 | Id               | Age_Category.18-24    | Age_Category.30-34    | Age_Category.45-49    | Age_Category.50-54    | Age_Category.55-59    | Age_Category.60-64    | Age_Category.65-69    | Age_Category.70-74    | Age_Category.75-79    | ⋯ | id.PR_00000022         | id.PR_00000023         | id.PR_00000024         | id.PR_00000025         | Other_Cancer.No        | Other_Cancer.Yes       | Sex.Female             | Sex.Male               | Skin_Cancer.No        | Skin_Cancer.Yes       |\n",
       "| 4 | T|PR_00000001    | 0                     | 0                     | 0                     | 0                     | 0                     | 0                     | 0                     | 1                     | 0                     | ⋯ | 0                      | 0                      | 0                      | 0                      | 1                      | 0                      | 1                      | 0                      | 1                     | 0                     |\n",
       "| 5 | R|PR_00000001    | 0                     | 0                     | 0                     | 0                     | 0                     | 0                     | 0                     | 1                     | 0                     | ⋯ | 0                      | 0                      | 0                      | 0                      | 1                      | 0                      | 1                      | 0                      | 1                     | 0                     |\n",
       "| 6 | R|PR_00000010    | 0                     | 0                     | 0                     | 0                     | 0                     | 0                     | 0                     | 1                     | 0                     | ⋯ | 0                      | 0                      | 0                      | 0                      | 1                      | 0                      | 1                      | 0                      | 1                     | 0                     |\n",
       "\n"
      ],
      "text/plain": [
       "  Id               X18.24                X30.34               \n",
       "1 background-color hsla(46, 30%, 80%, 1) hsla(46, 30%, 80%, 1)\n",
       "2 top_level        Age_Category          Age_Category         \n",
       "3 Id               Age_Category.18-24    Age_Category.30-34   \n",
       "4 T|PR_00000001    0                     0                    \n",
       "5 R|PR_00000001    0                     0                    \n",
       "6 R|PR_00000010    0                     0                    \n",
       "  X45.49                X50.54                X55.59               \n",
       "1 hsla(46, 30%, 80%, 1) hsla(46, 30%, 80%, 1) hsla(46, 30%, 80%, 1)\n",
       "2 Age_Category          Age_Category          Age_Category         \n",
       "3 Age_Category.45-49    Age_Category.50-54    Age_Category.55-59   \n",
       "4 0                     0                     0                    \n",
       "5 0                     0                     0                    \n",
       "6 0                     0                     0                    \n",
       "  X60.64                X65.69                X70.74               \n",
       "1 hsla(46, 30%, 80%, 1) hsla(46, 30%, 80%, 1) hsla(46, 30%, 80%, 1)\n",
       "2 Age_Category          Age_Category          Age_Category         \n",
       "3 Age_Category.60-64    Age_Category.65-69    Age_Category.70-74   \n",
       "4 0                     0                     1                    \n",
       "5 0                     0                     1                    \n",
       "6 0                     0                     1                    \n",
       "  X75.79                ⋯ id.PR_00000022         id.PR_00000023        \n",
       "1 hsla(46, 30%, 80%, 1) ⋯ hsla(238, 30%, 80%, 1) hsla(238, 30%, 80%, 1)\n",
       "2 Age_Category          ⋯ id                     id                    \n",
       "3 Age_Category.75-79    ⋯ id.PR_00000022         id.PR_00000023        \n",
       "4 0                     ⋯ 0                      0                     \n",
       "5 0                     ⋯ 0                      0                     \n",
       "6 0                     ⋯ 0                      0                     \n",
       "  id.PR_00000024         id.PR_00000025         No.5                  \n",
       "1 hsla(238, 30%, 80%, 1) hsla(238, 30%, 80%, 1) hsla(350, 30%, 80%, 1)\n",
       "2 id                     id                     Other_Cancer          \n",
       "3 id.PR_00000024         id.PR_00000025         Other_Cancer.No       \n",
       "4 0                      0                      1                     \n",
       "5 0                      0                      1                     \n",
       "6 0                      0                      1                     \n",
       "  Yes.5                  Female                 Male                  \n",
       "1 hsla(350, 30%, 80%, 1) hsla(129, 30%, 80%, 1) hsla(129, 30%, 80%, 1)\n",
       "2 Other_Cancer           Sex                    Sex                   \n",
       "3 Other_Cancer.Yes       Sex.Female             Sex.Male              \n",
       "4 0                      1                      0                     \n",
       "5 0                      1                      0                     \n",
       "6 0                      1                      0                     \n",
       "  No.6                  Yes.6                \n",
       "1 hsla(28, 30%, 80%, 1) hsla(28, 30%, 80%, 1)\n",
       "2 Skin_Cancer           Skin_Cancer          \n",
       "3 Skin_Cancer.No        Skin_Cancer.Yes      \n",
       "4 1                     0                    \n",
       "5 1                     0                    \n",
       "6 1                     0                    "
      ]
     },
     "metadata": {},
     "output_type": "display_data"
    }
   ],
   "source": [
    "json_path_row <- bin_df[1,]\n",
    "\n",
    "#remove everything after the first dot\n",
    "top_level_row <- gsub(\"\\\\..*\", \"\", json_path_row)\n",
    "top_level_row[1] <- \"top_level\"\n",
    "\n",
    "# add the top level row to the data frame\n",
    "bin_df2 <- rbind(top_level_row, bin_df)\n",
    "\n",
    "# Separate the first column and the rest of the data frame\n",
    "first_column <- bin_df2[, 1]\n",
    "rest_of_df <- bin_df2[, -1]\n",
    "\n",
    "# Simplify the first row of the remaining columns to ensure no lists\n",
    "simplified_first_row <- sapply(rest_of_df[1, ], as.character)\n",
    "\n",
    "# Sort the remaining columns based on the simplified first row\n",
    "sorted_rest_of_df <- rest_of_df[, order(simplified_first_row)]\n",
    "\n",
    "# Recombine the first column with the sorted remaining columns\n",
    "bin_df2 <- cbind(first_column, sorted_rest_of_df)\n",
    "\n",
    "# Rename the first column back to \"Id\"\n",
    "names(bin_df2)[1] <- \"Id\"\n",
    "\n",
    "top_level_row <- unlist(bin_df2[1,])\n",
    "\n",
    "color_map <- NULL\n",
    "# color_map <- json_data[[input_format]]\n",
    "if (is.null(color_map)) {\n",
    "  print(\"No color map found, generating random colors\")\n",
    "  top_levels <- unique(top_level_row[-1])\n",
    "  # print(\"Top levels:\")\n",
    "  # print(top_levels)\n",
    "  colors <- sample(hsla_colors, length(top_levels))\n",
    "  # print(\"Colors:\")\n",
    "  # print(colors)\n",
    "  # create the color mapping in form of a list\n",
    "  color_map <- list()\n",
    "  for (i in 1:length(top_levels)) {\n",
    "    color_map[top_levels[i]] <- colors[i]\n",
    "  }\n",
    "}\n",
    "\n",
    "print(\"Color map:\")\n",
    "print(color_map)\n",
    "\n",
    "# add a new row containing the colors\n",
    "color_row <- unlist(sapply(\n",
    "  bin_df2[1,],\n",
    "  function(x) color_map[[x]]\n",
    "))\n",
    "color_row <- c(\"background-color\", color_row)\n",
    "\n",
    "# add the color row to the data frame\n",
    "bin_df2 <- rbind(color_row, bin_df2)\n",
    "\n",
    "head(bin_df2)"
   ]
  },
  {
   "cell_type": "code",
   "execution_count": 99,
   "metadata": {
    "vscode": {
     "languageId": "r"
    }
   },
   "outputs": [
    {
     "data": {
      "text/plain": [
       "\n",
       "  Age_Category      Arthritis        Checkup     Depression       Diabetes \n",
       "            10              2              3              2              2 \n",
       "      Exercise General_Health  Heart_Disease             id   Other_Cancer \n",
       "             2              5              2             25              2 \n",
       "           Sex    Skin_Cancer \n",
       "             2              2 "
      ]
     },
     "metadata": {},
     "output_type": "display_data"
    },
    {
     "data": {
      "text/html": [
       "<style>\n",
       ".dl-inline {width: auto; margin:0; padding: 0}\n",
       ".dl-inline>dt, .dl-inline>dd {float: none; width: auto; display: inline-block}\n",
       ".dl-inline>dt::after {content: \":\\0020\"; padding-right: .5ex}\n",
       ".dl-inline>dt:not(:first-of-type) {padding-left: .5ex}\n",
       "</style><dl class=dl-inline><dt>Age_Category</dt><dd>'hsla(46, 30%, 80%, 1)'</dd><dt>Arthritis</dt><dd>'hsla(235, 30%, 80%, 1)'</dd><dt>Checkup</dt><dd>'hsla(91, 30%, 80%, 1)'</dd><dt>Depression</dt><dd>'hsla(66, 30%, 80%, 1)'</dd><dt>Diabetes</dt><dd>'hsla(85, 30%, 80%, 1)'</dd><dt>Exercise</dt><dd>'hsla(317, 30%, 80%, 1)'</dd><dt>General_Health</dt><dd>'hsla(220, 30%, 80%, 1)'</dd><dt>Heart_Disease</dt><dd>'hsla(50, 30%, 80%, 1)'</dd><dt>Other_Cancer</dt><dd>'hsla(105, 30%, 80%, 1)'</dd><dt>Sex</dt><dd>'hsla(73, 30%, 80%, 1)'</dd><dt>Skin_Cancer</dt><dd>'hsla(190, 30%, 80%, 1)'</dd><dt>id</dt><dd>'hsla(100, 30%, 80%, 1)'</dd></dl>\n"
      ],
      "text/latex": [
       "\\begin{description*}\n",
       "\\item[Age\\textbackslash{}\\_Category] 'hsla(46, 30\\%, 80\\%, 1)'\n",
       "\\item[Arthritis] 'hsla(235, 30\\%, 80\\%, 1)'\n",
       "\\item[Checkup] 'hsla(91, 30\\%, 80\\%, 1)'\n",
       "\\item[Depression] 'hsla(66, 30\\%, 80\\%, 1)'\n",
       "\\item[Diabetes] 'hsla(85, 30\\%, 80\\%, 1)'\n",
       "\\item[Exercise] 'hsla(317, 30\\%, 80\\%, 1)'\n",
       "\\item[General\\textbackslash{}\\_Health] 'hsla(220, 30\\%, 80\\%, 1)'\n",
       "\\item[Heart\\textbackslash{}\\_Disease] 'hsla(50, 30\\%, 80\\%, 1)'\n",
       "\\item[Other\\textbackslash{}\\_Cancer] 'hsla(105, 30\\%, 80\\%, 1)'\n",
       "\\item[Sex] 'hsla(73, 30\\%, 80\\%, 1)'\n",
       "\\item[Skin\\textbackslash{}\\_Cancer] 'hsla(190, 30\\%, 80\\%, 1)'\n",
       "\\item[id] 'hsla(100, 30\\%, 80\\%, 1)'\n",
       "\\end{description*}\n"
      ],
      "text/markdown": [
       "Age_Category\n",
       ":   'hsla(46, 30%, 80%, 1)'Arthritis\n",
       ":   'hsla(235, 30%, 80%, 1)'Checkup\n",
       ":   'hsla(91, 30%, 80%, 1)'Depression\n",
       ":   'hsla(66, 30%, 80%, 1)'Diabetes\n",
       ":   'hsla(85, 30%, 80%, 1)'Exercise\n",
       ":   'hsla(317, 30%, 80%, 1)'General_Health\n",
       ":   'hsla(220, 30%, 80%, 1)'Heart_Disease\n",
       ":   'hsla(50, 30%, 80%, 1)'Other_Cancer\n",
       ":   'hsla(105, 30%, 80%, 1)'Sex\n",
       ":   'hsla(73, 30%, 80%, 1)'Skin_Cancer\n",
       ":   'hsla(190, 30%, 80%, 1)'id\n",
       ":   'hsla(100, 30%, 80%, 1)'\n",
       "\n"
      ],
      "text/plain": [
       "            Age_Category                Arthritis                  Checkup \n",
       " \"hsla(46, 30%, 80%, 1)\" \"hsla(235, 30%, 80%, 1)\"  \"hsla(91, 30%, 80%, 1)\" \n",
       "              Depression                 Diabetes                 Exercise \n",
       " \"hsla(66, 30%, 80%, 1)\"  \"hsla(85, 30%, 80%, 1)\" \"hsla(317, 30%, 80%, 1)\" \n",
       "          General_Health            Heart_Disease             Other_Cancer \n",
       "\"hsla(220, 30%, 80%, 1)\"  \"hsla(50, 30%, 80%, 1)\" \"hsla(105, 30%, 80%, 1)\" \n",
       "                     Sex              Skin_Cancer                       id \n",
       " \"hsla(73, 30%, 80%, 1)\" \"hsla(190, 30%, 80%, 1)\" \"hsla(100, 30%, 80%, 1)\" "
      ]
     },
     "metadata": {},
     "output_type": "display_data"
    },
    {
     "name": "stdout",
     "output_type": "stream",
     "text": [
      "[1] \"Other_Cancer\"\n",
      "[1] 2\n",
      "[1] \"hsla(105, 30%, 80%, 1)\"\n"
     ]
    },
    {
     "data": {
      "text/html": [
       "'&lt;th colspan=\"10\" style=\"background-color:hsla(46, 30%, 80%, 1);\"&gt;Age_Category&lt;/th&gt;&lt;th colspan=\"2\" style=\"background-color:hsla(235, 30%, 80%, 1);\"&gt;Arthritis&lt;/th&gt;&lt;th colspan=\"3\" style=\"background-color:hsla(91, 30%, 80%, 1);\"&gt;Checkup&lt;/th&gt;&lt;th colspan=\"2\" style=\"background-color:hsla(66, 30%, 80%, 1);\"&gt;Depression&lt;/th&gt;&lt;th colspan=\"2\" style=\"background-color:hsla(85, 30%, 80%, 1);\"&gt;Diabetes&lt;/th&gt;&lt;th colspan=\"2\" style=\"background-color:hsla(317, 30%, 80%, 1);\"&gt;Exercise&lt;/th&gt;&lt;th colspan=\"5\" style=\"background-color:hsla(220, 30%, 80%, 1);\"&gt;General_Health&lt;/th&gt;&lt;th colspan=\"2\" style=\"background-color:hsla(50, 30%, 80%, 1);\"&gt;Heart_Disease&lt;/th&gt;&lt;th colspan=\"25\" style=\"background-color:hsla(100, 30%, 80%, 1);\"&gt;id&lt;/th&gt;&lt;th colspan=\"2\" style=\"background-color:hsla(105, 30%, 80%, 1);\"&gt;Other_Cancer&lt;/th&gt;&lt;th colspan=\"2\" style=\"background-color:hsla(73, 30%, 80%, 1);\"&gt;Sex&lt;/th&gt;&lt;th colspan=\"2\" style=\"background-color:hsla(190, 30%, 80%, 1);\"&gt;Skin_Cancer&lt;/th&gt;'"
      ],
      "text/latex": [
       "'<th colspan=\"10\" style=\"background-color:hsla(46, 30\\%, 80\\%, 1);\">Age\\_Category</th><th colspan=\"2\" style=\"background-color:hsla(235, 30\\%, 80\\%, 1);\">Arthritis</th><th colspan=\"3\" style=\"background-color:hsla(91, 30\\%, 80\\%, 1);\">Checkup</th><th colspan=\"2\" style=\"background-color:hsla(66, 30\\%, 80\\%, 1);\">Depression</th><th colspan=\"2\" style=\"background-color:hsla(85, 30\\%, 80\\%, 1);\">Diabetes</th><th colspan=\"2\" style=\"background-color:hsla(317, 30\\%, 80\\%, 1);\">Exercise</th><th colspan=\"5\" style=\"background-color:hsla(220, 30\\%, 80\\%, 1);\">General\\_Health</th><th colspan=\"2\" style=\"background-color:hsla(50, 30\\%, 80\\%, 1);\">Heart\\_Disease</th><th colspan=\"25\" style=\"background-color:hsla(100, 30\\%, 80\\%, 1);\">id</th><th colspan=\"2\" style=\"background-color:hsla(105, 30\\%, 80\\%, 1);\">Other\\_Cancer</th><th colspan=\"2\" style=\"background-color:hsla(73, 30\\%, 80\\%, 1);\">Sex</th><th colspan=\"2\" style=\"background-color:hsla(190, 30\\%, 80\\%, 1);\">Skin\\_Cancer</th>'"
      ],
      "text/markdown": [
       "'&lt;th colspan=\"10\" style=\"background-color:hsla(46, 30%, 80%, 1);\"&gt;Age_Category&lt;/th&gt;&lt;th colspan=\"2\" style=\"background-color:hsla(235, 30%, 80%, 1);\"&gt;Arthritis&lt;/th&gt;&lt;th colspan=\"3\" style=\"background-color:hsla(91, 30%, 80%, 1);\"&gt;Checkup&lt;/th&gt;&lt;th colspan=\"2\" style=\"background-color:hsla(66, 30%, 80%, 1);\"&gt;Depression&lt;/th&gt;&lt;th colspan=\"2\" style=\"background-color:hsla(85, 30%, 80%, 1);\"&gt;Diabetes&lt;/th&gt;&lt;th colspan=\"2\" style=\"background-color:hsla(317, 30%, 80%, 1);\"&gt;Exercise&lt;/th&gt;&lt;th colspan=\"5\" style=\"background-color:hsla(220, 30%, 80%, 1);\"&gt;General_Health&lt;/th&gt;&lt;th colspan=\"2\" style=\"background-color:hsla(50, 30%, 80%, 1);\"&gt;Heart_Disease&lt;/th&gt;&lt;th colspan=\"25\" style=\"background-color:hsla(100, 30%, 80%, 1);\"&gt;id&lt;/th&gt;&lt;th colspan=\"2\" style=\"background-color:hsla(105, 30%, 80%, 1);\"&gt;Other_Cancer&lt;/th&gt;&lt;th colspan=\"2\" style=\"background-color:hsla(73, 30%, 80%, 1);\"&gt;Sex&lt;/th&gt;&lt;th colspan=\"2\" style=\"background-color:hsla(190, 30%, 80%, 1);\"&gt;Skin_Cancer&lt;/th&gt;'"
      ],
      "text/plain": [
       "[1] \"<th colspan=\\\"10\\\" style=\\\"background-color:hsla(46, 30%, 80%, 1);\\\">Age_Category</th><th colspan=\\\"2\\\" style=\\\"background-color:hsla(235, 30%, 80%, 1);\\\">Arthritis</th><th colspan=\\\"3\\\" style=\\\"background-color:hsla(91, 30%, 80%, 1);\\\">Checkup</th><th colspan=\\\"2\\\" style=\\\"background-color:hsla(66, 30%, 80%, 1);\\\">Depression</th><th colspan=\\\"2\\\" style=\\\"background-color:hsla(85, 30%, 80%, 1);\\\">Diabetes</th><th colspan=\\\"2\\\" style=\\\"background-color:hsla(317, 30%, 80%, 1);\\\">Exercise</th><th colspan=\\\"5\\\" style=\\\"background-color:hsla(220, 30%, 80%, 1);\\\">General_Health</th><th colspan=\\\"2\\\" style=\\\"background-color:hsla(50, 30%, 80%, 1);\\\">Heart_Disease</th><th colspan=\\\"25\\\" style=\\\"background-color:hsla(100, 30%, 80%, 1);\\\">id</th><th colspan=\\\"2\\\" style=\\\"background-color:hsla(105, 30%, 80%, 1);\\\">Other_Cancer</th><th colspan=\\\"2\\\" style=\\\"background-color:hsla(73, 30%, 80%, 1);\\\">Sex</th><th colspan=\\\"2\\\" style=\\\"background-color:hsla(190, 30%, 80%, 1);\\\">Skin_Cancer</th>\""
      ]
     },
     "metadata": {},
     "output_type": "display_data"
    }
   ],
   "source": [
    "# extra header row containing the top level value\n",
    "# while its cells are merged by top level\n",
    "\n",
    "top_level_to_count <- table(top_level_row[-1])\n",
    "top_level_to_count\n",
    "\n",
    "top_level_to_color <- setNames(\n",
    "  unique(color_row[-1]),\n",
    "  unique(top_level_row[-1])\n",
    ")\n",
    "\n",
    "top_level_to_color\n",
    "\n",
    "header_row <- paste(\n",
    "  sapply(names(top_level_to_count), function(name) {\n",
    "    colspan_value <- top_level_to_count[[name]]\n",
    "    color <- top_level_to_color[[name]]\n",
    "\n",
    "    if(name == \"Other_Cancer\") {\n",
    "      print(\"Other_Cancer\")\n",
    "      print(colspan_value)\n",
    "      print(color)\n",
    "    }\n",
    "\n",
    "    sprintf(\n",
    "      '<th colspan=\"%d\" style=\"background-color:%s;\">%s</th>',\n",
    "      colspan_value, color, name\n",
    "    )\n",
    "  }),\n",
    "  collapse = \"\"  # Collapse into a single string\n",
    ")\n",
    "header_row"
   ]
  },
  {
   "cell_type": "code",
   "execution_count": 98,
   "metadata": {
    "vscode": {
     "languageId": "r"
    }
   },
   "outputs": [],
   "source": [
    "# JavaScript to prepend the header row\n",
    "headerCallback <- JS(\n",
    "  \"function(thead, data, start, end, display) {\",\n",
    "  sprintf(\"$(thead).closest('thead').prepend('<tr><th></th>%s</tr>');\", header_row),\n",
    "  \"}\"\n",
    ")\n",
    "\n",
    "\n",
    "# JavaScript to color the columns based on the values in the 2nd row of the data\n",
    "initComplete <- JS(\n",
    "  \"function(settings, json) {\",\n",
    "  \"$('tbody tr').each(function() {\",\n",
    "    # Loop over each column to set background color based on the value in the first row (background-color)\n",
    "    \"for (var i = 0; i < $('tbody tr:eq(0) td').length; i++) {\",\n",
    "      \"var color = $('tbody tr:eq(0)').find('td:eq(' + i + ')').text();\",\n",
    "      \"console.log(color);\",\n",
    "\n",
    "      # Apply background color to the cell\n",
    "      \"$('tbody tr').find('td:eq(' + i + ')').css('background-color', color);\",\n",
    "      \"$('thead th.sorting_disabled').eq(i).css('background-color', color);\",  # Apply background color to the header\n",
    "\n",
    "      # hide the row with the colors\n",
    "      \"$('tbody tr').eq(0).hide();\",\n",
    "    \"}\",\n",
    "  \"});\",\n",
    "  \"}\"\n",
    ")\n",
    "\n",
    "# remove row 2 and 3\n",
    "bin_df3 <- bin_df2[-c(2, 3),]\n",
    "\n",
    "dt <- datatable(\n",
    "  bin_df3,\n",
    "  rownames = FALSE,\n",
    "  escape = FALSE,\n",
    "  options = list(\n",
    "    scrollY = \"500px\",\n",
    "    scrollX = TRUE,\n",
    "    fixedHeader = TRUE,\n",
    "    fixedColumns = list(leftColumns = 1),\n",
    "    paging = FALSE,\n",
    "    searching = FALSE,\n",
    "    ordering = FALSE,\n",
    "    headerCallback = headerCallback,\n",
    "    initComplete = initComplete\n",
    "  )\n",
    ")\n",
    "\n",
    "saved_wiget_path <- \"notebooks/saved_widgets\"\n",
    "widget_fn <- \"binary_representation.html\"\n",
    "\n",
    "saveWidget(\n",
    "  dt,\n",
    "  file.path(\n",
    "    saved_wiget_path,\n",
    "    widget_fn\n",
    "  )\n",
    ")\n"
   ]
  },
  {
   "cell_type": "code",
   "execution_count": 72,
   "metadata": {
    "vscode": {
     "languageId": "r"
    }
   },
   "outputs": [
    {
     "data": {
      "text/html": [
       "<iframe src='http://localhost:5500/jupyrenv/notebooks/saved_widgets/binary_representation.html' width='100%' height='500px'></iframe>"
      ]
     },
     "metadata": {},
     "output_type": "display_data"
    }
   ],
   "source": [
    "# make sure that vscode is running the live server\n",
    "live_server_path <- \"http://localhost:5500/jupyrenv/notebooks/saved_widgets\"\n",
    "iframe_src <- paste0(\n",
    "  live_server_path,\n",
    "  \"/\",\n",
    "  widget_fn\n",
    ")\n",
    "\n",
    "display_html(\n",
    "  paste0(\n",
    "    \"<iframe src='\",\n",
    "    iframe_src,\n",
    "    \"' width='100%' height='500px'></iframe>\"\n",
    "  )\n",
    ")"
   ]
  },
  {
   "cell_type": "code",
   "execution_count": null,
   "metadata": {
    "vscode": {
     "languageId": "r"
    }
   },
   "outputs": [],
   "source": []
  }
 ],
 "metadata": {
  "kernelspec": {
   "display_name": "R",
   "language": "R",
   "name": "ir"
  },
  "language_info": {
   "codemirror_mode": "r",
   "file_extension": ".r",
   "mimetype": "text/x-r-source",
   "name": "R",
   "pygments_lexer": "r",
   "version": "4.4.1"
  }
 },
 "nbformat": 4,
 "nbformat_minor": 2
}
