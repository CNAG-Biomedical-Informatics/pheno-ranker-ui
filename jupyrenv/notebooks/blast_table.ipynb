{
 "cells": [
  {
   "cell_type": "markdown",
   "metadata": {},
   "source": [
    "---\n",
    "title: \"pheno heads up (blast) table\" \n",
    "format: html\n",
    "execute:\n",
    "    eval: true\n",
    "jupyter: IRkernel\n",
    "---"
   ]
  },
  {
   "cell_type": "code",
   "execution_count": 1,
   "metadata": {
    "vscode": {
     "languageId": "r"
    }
   },
   "outputs": [],
   "source": [
    "library(jsonlite)\n",
    "library(DT)\n",
    "library(IRdisplay)\n",
    "library(htmlwidgets)"
   ]
  },
  {
   "cell_type": "code",
   "execution_count": 2,
   "metadata": {
    "vscode": {
     "languageId": "r"
    }
   },
   "outputs": [],
   "source": [
    "config_dir <- \"../phenoRankeR/inst/extdata/config\"\n",
    "json_data <- fromJSON(file.path(config_dir, \"pheno_blast_col_colors.json\"))"
   ]
  },
  {
   "cell_type": "code",
   "execution_count": 11,
   "metadata": {
    "vscode": {
     "languageId": "r"
    }
   },
   "outputs": [
    {
     "name": "stdout",
     "output_type": "stream",
     "text": [
      "[1] \"../data/user_data/pheno.ranker@playground.com/output/rankedPatients/20241006015118/20241006015118_alignment.target.csv\"\n"
     ]
    },
    {
     "data": {
      "text/html": [
       "<table class=\"dataframe\">\n",
       "<caption>A data.frame: 6 × 8</caption>\n",
       "<thead>\n",
       "\t<tr><th></th><th scope=col>id</th><th scope=col>ref</th><th scope=col>indicator</th><th scope=col>tar</th><th scope=col>weight</th><th scope=col>hamming.distance</th><th scope=col>json.path</th><th scope=col>label</th></tr>\n",
       "\t<tr><th></th><th scope=col>&lt;chr&gt;</th><th scope=col>&lt;int&gt;</th><th scope=col>&lt;chr&gt;</th><th scope=col>&lt;int&gt;</th><th scope=col>&lt;int&gt;</th><th scope=col>&lt;int&gt;</th><th scope=col>&lt;chr&gt;</th><th scope=col>&lt;chr&gt;</th></tr>\n",
       "</thead>\n",
       "<tbody>\n",
       "\t<tr><th scope=row>1</th><td>HG00100</td><td>0</td><td>     </td><td>0</td><td>1</td><td>0</td><td>diseases.ICD10:D50.diseaseCode.id.ICD10:D50</td><td>iron deficiency anaemia</td></tr>\n",
       "\t<tr><th scope=row>2</th><td>HG00100</td><td>0</td><td>     </td><td>0</td><td>1</td><td>0</td><td>diseases.ICD10:E06.diseaseCode.id.ICD10:E06</td><td>thyroiditis            </td></tr>\n",
       "\t<tr><th scope=row>3</th><td>HG00100</td><td>0</td><td>     </td><td>0</td><td>1</td><td>0</td><td>diseases.ICD10:J40.diseaseCode.id.ICD10:J40</td><td>acute bronchitis       </td></tr>\n",
       "\t<tr><th scope=row>4</th><td>HG00100</td><td>0</td><td>     </td><td>0</td><td>1</td><td>0</td><td>diseases.ICD10:J45.diseaseCode.id.ICD10:J45</td><td>asthma                 </td></tr>\n",
       "\t<tr><th scope=row>5</th><td>HG00100</td><td>0</td><td>     </td><td>0</td><td>1</td><td>0</td><td>diseases.ICD10:K02.diseaseCode.id.ICD10:K02</td><td>dental caries          </td></tr>\n",
       "\t<tr><th scope=row>6</th><td>HG00100</td><td>0</td><td>     </td><td>0</td><td>1</td><td>0</td><td>ethnicity.id.NCIT:C16352                   </td><td>Black or Black British </td></tr>\n",
       "</tbody>\n",
       "</table>\n"
      ],
      "text/latex": [
       "A data.frame: 6 × 8\n",
       "\\begin{tabular}{r|llllllll}\n",
       "  & id & ref & indicator & tar & weight & hamming.distance & json.path & label\\\\\n",
       "  & <chr> & <int> & <chr> & <int> & <int> & <int> & <chr> & <chr>\\\\\n",
       "\\hline\n",
       "\t1 & HG00100 & 0 &       & 0 & 1 & 0 & diseases.ICD10:D50.diseaseCode.id.ICD10:D50 & iron deficiency anaemia\\\\\n",
       "\t2 & HG00100 & 0 &       & 0 & 1 & 0 & diseases.ICD10:E06.diseaseCode.id.ICD10:E06 & thyroiditis            \\\\\n",
       "\t3 & HG00100 & 0 &       & 0 & 1 & 0 & diseases.ICD10:J40.diseaseCode.id.ICD10:J40 & acute bronchitis       \\\\\n",
       "\t4 & HG00100 & 0 &       & 0 & 1 & 0 & diseases.ICD10:J45.diseaseCode.id.ICD10:J45 & asthma                 \\\\\n",
       "\t5 & HG00100 & 0 &       & 0 & 1 & 0 & diseases.ICD10:K02.diseaseCode.id.ICD10:K02 & dental caries          \\\\\n",
       "\t6 & HG00100 & 0 &       & 0 & 1 & 0 & ethnicity.id.NCIT:C16352                    & Black or Black British \\\\\n",
       "\\end{tabular}\n"
      ],
      "text/markdown": [
       "\n",
       "A data.frame: 6 × 8\n",
       "\n",
       "| <!--/--> | id &lt;chr&gt; | ref &lt;int&gt; | indicator &lt;chr&gt; | tar &lt;int&gt; | weight &lt;int&gt; | hamming.distance &lt;int&gt; | json.path &lt;chr&gt; | label &lt;chr&gt; |\n",
       "|---|---|---|---|---|---|---|---|---|\n",
       "| 1 | HG00100 | 0 | <!----> | 0 | 1 | 0 | diseases.ICD10:D50.diseaseCode.id.ICD10:D50 | iron deficiency anaemia |\n",
       "| 2 | HG00100 | 0 | <!----> | 0 | 1 | 0 | diseases.ICD10:E06.diseaseCode.id.ICD10:E06 | thyroiditis             |\n",
       "| 3 | HG00100 | 0 | <!----> | 0 | 1 | 0 | diseases.ICD10:J40.diseaseCode.id.ICD10:J40 | acute bronchitis        |\n",
       "| 4 | HG00100 | 0 | <!----> | 0 | 1 | 0 | diseases.ICD10:J45.diseaseCode.id.ICD10:J45 | asthma                  |\n",
       "| 5 | HG00100 | 0 | <!----> | 0 | 1 | 0 | diseases.ICD10:K02.diseaseCode.id.ICD10:K02 | dental caries           |\n",
       "| 6 | HG00100 | 0 | <!----> | 0 | 1 | 0 | ethnicity.id.NCIT:C16352                    | Black or Black British  |\n",
       "\n"
      ],
      "text/plain": [
       "  id      ref indicator tar weight hamming.distance\n",
       "1 HG00100 0             0   1      0               \n",
       "2 HG00100 0             0   1      0               \n",
       "3 HG00100 0             0   1      0               \n",
       "4 HG00100 0             0   1      0               \n",
       "5 HG00100 0             0   1      0               \n",
       "6 HG00100 0             0   1      0               \n",
       "  json.path                                   label                  \n",
       "1 diseases.ICD10:D50.diseaseCode.id.ICD10:D50 iron deficiency anaemia\n",
       "2 diseases.ICD10:E06.diseaseCode.id.ICD10:E06 thyroiditis            \n",
       "3 diseases.ICD10:J40.diseaseCode.id.ICD10:J40 acute bronchitis       \n",
       "4 diseases.ICD10:J45.diseaseCode.id.ICD10:J45 asthma                 \n",
       "5 diseases.ICD10:K02.diseaseCode.id.ICD10:K02 dental caries          \n",
       "6 ethnicity.id.NCIT:C16352                    Black or Black British "
      ]
     },
     "metadata": {},
     "output_type": "display_data"
    }
   ],
   "source": [
    "user <- \"pheno.ranker@playground.com\"\n",
    "run_id <- \"20241006015118\"\n",
    "\n",
    "user_dir <- file.path(\"../data/user_data\", user)\n",
    "out_dir <- file.path(user_dir, \"output/rankedPatients\", run_id)\n",
    "file_suffix <- \"_alignment.target.csv\"\n",
    "\n",
    "file_path <- file.path(\n",
    "  out_dir,\n",
    "  paste0(run_id, file_suffix)\n",
    ")\n",
    "print(file_path)\n",
    "\n",
    "alignment_df <- read.table(\n",
    "  file_path,\n",
    "  header = TRUE,\n",
    "  sep = \";\",\n",
    "  row.names = NULL\n",
    ")\n",
    "head(alignment_df)"
   ]
  },
  {
   "cell_type": "code",
   "execution_count": 12,
   "metadata": {
    "vscode": {
     "languageId": "r"
    }
   },
   "outputs": [
    {
     "data": {
      "text/html": [
       "<table class=\"dataframe\">\n",
       "<caption>A data.frame: 46 × 7</caption>\n",
       "<thead>\n",
       "\t<tr><th></th><th scope=col>Reference</th><th scope=col>Indicator</th><th scope=col>Target</th><th scope=col>Weight</th><th scope=col>Hamming Distance</th><th scope=col>JSON Path</th><th scope=col>Label</th></tr>\n",
       "\t<tr><th></th><th scope=col>&lt;int&gt;</th><th scope=col>&lt;chr&gt;</th><th scope=col>&lt;int&gt;</th><th scope=col>&lt;int&gt;</th><th scope=col>&lt;int&gt;</th><th scope=col>&lt;chr&gt;</th><th scope=col>&lt;chr&gt;</th></tr>\n",
       "</thead>\n",
       "<tbody>\n",
       "\t<tr><th scope=row>1</th><td>0</td><td>     </td><td>0</td><td>1</td><td>0</td><td>diseases.ICD10:D50.diseaseCode.id.ICD10:D50                         </td><td>iron deficiency anaemia                                        </td></tr>\n",
       "\t<tr><th scope=row>2</th><td>0</td><td>     </td><td>0</td><td>1</td><td>0</td><td>diseases.ICD10:E06.diseaseCode.id.ICD10:E06                         </td><td>thyroiditis                                                    </td></tr>\n",
       "\t<tr><th scope=row>3</th><td>0</td><td>     </td><td>0</td><td>1</td><td>0</td><td>diseases.ICD10:J40.diseaseCode.id.ICD10:J40                         </td><td>acute bronchitis                                               </td></tr>\n",
       "\t<tr><th scope=row>4</th><td>0</td><td>     </td><td>0</td><td>1</td><td>0</td><td>diseases.ICD10:J45.diseaseCode.id.ICD10:J45                         </td><td>asthma                                                         </td></tr>\n",
       "\t<tr><th scope=row>5</th><td>0</td><td>     </td><td>0</td><td>1</td><td>0</td><td>diseases.ICD10:K02.diseaseCode.id.ICD10:K02                         </td><td>dental caries                                                  </td></tr>\n",
       "\t<tr><th scope=row>6</th><td>0</td><td>     </td><td>0</td><td>1</td><td>0</td><td>ethnicity.id.NCIT:C16352                                            </td><td>Black or Black British                                         </td></tr>\n",
       "\t<tr><th scope=row>7</th><td>0</td><td>     </td><td>0</td><td>1</td><td>0</td><td>ethnicity.id.NCIT:C41260                                            </td><td>Asian or Asian British                                         </td></tr>\n",
       "\t<tr><th scope=row>8</th><td>0</td><td>     </td><td>0</td><td>1</td><td>0</td><td>ethnicity.id.NCIT:C41261                                            </td><td>British                                                        </td></tr>\n",
       "\t<tr><th scope=row>9</th><td>0</td><td>     </td><td>0</td><td>1</td><td>0</td><td>ethnicity.id.NCIT:C42331                                            </td><td>African                                                        </td></tr>\n",
       "\t<tr><th scope=row>10</th><td>1</td><td>-----</td><td>1</td><td>1</td><td>0</td><td>ethnicity.id.NCIT:C67109                                            </td><td>White and Asian                                                </td></tr>\n",
       "\t<tr><th scope=row>11</th><td>0</td><td>     </td><td>0</td><td>1</td><td>0</td><td>geographicOrigin.id.GAZ:00002638                                    </td><td>Northern Ireland                                               </td></tr>\n",
       "\t<tr><th scope=row>12</th><td>0</td><td>     </td><td>0</td><td>1</td><td>0</td><td>geographicOrigin.id.GAZ:00002639                                    </td><td>Scotland                                                       </td></tr>\n",
       "\t<tr><th scope=row>13</th><td>0</td><td>     </td><td>0</td><td>1</td><td>0</td><td>geographicOrigin.id.GAZ:00002640                                    </td><td>Wales                                                          </td></tr>\n",
       "\t<tr><th scope=row>14</th><td>0</td><td>     </td><td>0</td><td>1</td><td>0</td><td>geographicOrigin.id.GAZ:00002641                                    </td><td>England                                                        </td></tr>\n",
       "\t<tr><th scope=row>15</th><td>0</td><td>     </td><td>0</td><td>1</td><td>0</td><td>geographicOrigin.id.GAZ:00004018                                    </td><td>Republic of Ireland                                            </td></tr>\n",
       "\t<tr><th scope=row>16</th><td>0</td><td>     </td><td>0</td><td>1</td><td>0</td><td>id.HG00096                                                          </td><td>id.HG00096                                                     </td></tr>\n",
       "\t<tr><th scope=row>17</th><td>0</td><td>     </td><td>0</td><td>1</td><td>0</td><td>id.HG00099                                                          </td><td>id.HG00099                                                     </td></tr>\n",
       "\t<tr><th scope=row>18</th><td>1</td><td>-----</td><td>1</td><td>1</td><td>0</td><td>id.HG00100                                                          </td><td>id.HG00100                                                     </td></tr>\n",
       "\t<tr><th scope=row>19</th><td>0</td><td>     </td><td>0</td><td>1</td><td>0</td><td>id.HG00102                                                          </td><td>id.HG00102                                                     </td></tr>\n",
       "\t<tr><th scope=row>20</th><td>0</td><td>     </td><td>0</td><td>1</td><td>0</td><td>id.HG00106                                                          </td><td>id.HG00106                                                     </td></tr>\n",
       "\t<tr><th scope=row>21</th><td>0</td><td>     </td><td>0</td><td>1</td><td>0</td><td>id.HG00107                                                          </td><td>id.HG00107                                                     </td></tr>\n",
       "\t<tr><th scope=row>22</th><td>0</td><td>     </td><td>0</td><td>1</td><td>0</td><td>id.HG00108                                                          </td><td>id.HG00108                                                     </td></tr>\n",
       "\t<tr><th scope=row>23</th><td>0</td><td>     </td><td>0</td><td>1</td><td>0</td><td>id.HG00109                                                          </td><td>id.HG00109                                                     </td></tr>\n",
       "\t<tr><th scope=row>24</th><td>0</td><td>     </td><td>0</td><td>1</td><td>0</td><td>id.HG00112                                                          </td><td>id.HG00112                                                     </td></tr>\n",
       "\t<tr><th scope=row>25</th><td>0</td><td>     </td><td>0</td><td>1</td><td>0</td><td>id.HG00113                                                          </td><td>id.HG00113                                                     </td></tr>\n",
       "\t<tr><th scope=row>26</th><td>0</td><td>     </td><td>0</td><td>1</td><td>0</td><td>interventionsOrProcedures.OPCS4:C01.8.procedureCode.id.OPCS4:C01.8  </td><td>OPCS(v4-0.0):Other specified excision of eye                   </td></tr>\n",
       "\t<tr><th scope=row>27</th><td>0</td><td>     </td><td>0</td><td>1</td><td>0</td><td>interventionsOrProcedures.OPCS4:C45.5.procedureCode.id.OPCS4:C45.5  </td><td>OPCS(v4-0.0):Radiotherapy to lesion of cornea                  </td></tr>\n",
       "\t<tr><th scope=row>28</th><td>0</td><td>     </td><td>0</td><td>1</td><td>0</td><td>interventionsOrProcedures.OPCS4:E55.9.procedureCode.id.OPCS4:E55.9  </td><td>OPCS(v4-0.0):Unspecified open extirpation of lesion of lung    </td></tr>\n",
       "\t<tr><th scope=row>29</th><td>0</td><td>     </td><td>0</td><td>1</td><td>0</td><td>interventionsOrProcedures.OPCS4:H03.8.procedureCode.id.OPCS4:H03.8  </td><td>OPCS(v4-0.0):Other specified other operations on appendix      </td></tr>\n",
       "\t<tr><th scope=row>30</th><td>0</td><td>     </td><td>0</td><td>1</td><td>0</td><td>interventionsOrProcedures.OPCS4:H34.1.procedureCode.id.OPCS4:H34.1  </td><td>OPCS(v4-0.0):Open excision of lesion of rectum                 </td></tr>\n",
       "\t<tr><th scope=row>31</th><td>0</td><td>     </td><td>0</td><td>1</td><td>0</td><td>interventionsOrProcedures.OPCS4:L46.3.procedureCode.id.OPCS4:L46.3  </td><td>OPCS(v4-0.0):Ligation of visceral branch of abdominal aorta NEC</td></tr>\n",
       "\t<tr><th scope=row>32</th><td>1</td><td>-----</td><td>1</td><td>1</td><td>0</td><td>interventionsOrProcedures.OPCS4:T77.2.procedureCode.id.OPCS4:T77.2  </td><td>OPCS(v4-0.0):Wide excision of muscle                           </td></tr>\n",
       "\t<tr><th scope=row>33</th><td>0</td><td>     </td><td>0</td><td>1</td><td>0</td><td>interventionsOrProcedures.OPCS4:T89.4.procedureCode.id.OPCS4:T89.4  </td><td>OPCS(v4-0.0):Cannulation of lymphatic duct                     </td></tr>\n",
       "\t<tr><th scope=row>34</th><td>0</td><td>     </td><td>0</td><td>1</td><td>0</td><td>interventionsOrProcedures.OPCS4:X53.3.procedureCode.id.OPCS4:X53.3  </td><td>OPCS(v4-0.0):Destruction of lesion of unspecified organ        </td></tr>\n",
       "\t<tr><th scope=row>35</th><td>0</td><td>     </td><td>0</td><td>1</td><td>0</td><td>interventionsOrProcedures.OPCS4:Z04.8.procedureCode.id.OPCS4:Z04.8  </td><td>OPCS(v4-0.0):Specified cranial nerve NEC                       </td></tr>\n",
       "\t<tr><th scope=row>36</th><td>1</td><td>-----</td><td>1</td><td>1</td><td>0</td><td>measures.LOINC:3141-9.assayCode.id.LOINC:3141-9                     </td><td>Weight                                                         </td></tr>\n",
       "\t<tr><th scope=row>37</th><td>1</td><td>-----</td><td>1</td><td>1</td><td>0</td><td>measures.LOINC:3141-9.date.2021-09-24                               </td><td>2021-09-24                                                     </td></tr>\n",
       "\t<tr><th scope=row>38</th><td>1</td><td>-----</td><td>1</td><td>1</td><td>0</td><td>measures.LOINC:3141-9.measurementValue.quantity.unit.id.NCIT:C28252 </td><td>Kilogram                                                       </td></tr>\n",
       "\t<tr><th scope=row>39</th><td>1</td><td>-----</td><td>1</td><td>1</td><td>0</td><td>measures.LOINC:35925-4.assayCode.id.LOINC:35925-4                   </td><td>BMI                                                            </td></tr>\n",
       "\t<tr><th scope=row>40</th><td>1</td><td>-----</td><td>1</td><td>1</td><td>0</td><td>measures.LOINC:35925-4.date.2021-09-24                              </td><td>2021-09-24                                                     </td></tr>\n",
       "\t<tr><th scope=row>41</th><td>1</td><td>-----</td><td>1</td><td>1</td><td>0</td><td>measures.LOINC:35925-4.measurementValue.quantity.unit.id.NCIT:C49671</td><td>Kilogram per Square Meter                                      </td></tr>\n",
       "\t<tr><th scope=row>42</th><td>1</td><td>-----</td><td>1</td><td>1</td><td>0</td><td>measures.LOINC:8308-9.assayCode.id.LOINC:8308-9                     </td><td>Height-standing                                                </td></tr>\n",
       "\t<tr><th scope=row>43</th><td>1</td><td>-----</td><td>1</td><td>1</td><td>0</td><td>measures.LOINC:8308-9.date.2021-09-24                               </td><td>2021-09-24                                                     </td></tr>\n",
       "\t<tr><th scope=row>44</th><td>1</td><td>-----</td><td>1</td><td>1</td><td>0</td><td>measures.LOINC:8308-9.measurementValue.quantity.unit.id.NCIT:C49668 </td><td>Centimeter                                                     </td></tr>\n",
       "\t<tr><th scope=row>45</th><td>1</td><td>-----</td><td>1</td><td>1</td><td>0</td><td>sex.id.NCIT:C16576                                                  </td><td>female                                                         </td></tr>\n",
       "\t<tr><th scope=row>46</th><td>0</td><td>     </td><td>0</td><td>1</td><td>0</td><td>sex.id.NCIT:C20197                                                  </td><td>male                                                           </td></tr>\n",
       "</tbody>\n",
       "</table>\n"
      ],
      "text/latex": [
       "A data.frame: 46 × 7\n",
       "\\begin{tabular}{r|lllllll}\n",
       "  & Reference & Indicator & Target & Weight & Hamming Distance & JSON Path & Label\\\\\n",
       "  & <int> & <chr> & <int> & <int> & <int> & <chr> & <chr>\\\\\n",
       "\\hline\n",
       "\t1 & 0 &       & 0 & 1 & 0 & diseases.ICD10:D50.diseaseCode.id.ICD10:D50                          & iron deficiency anaemia                                        \\\\\n",
       "\t2 & 0 &       & 0 & 1 & 0 & diseases.ICD10:E06.diseaseCode.id.ICD10:E06                          & thyroiditis                                                    \\\\\n",
       "\t3 & 0 &       & 0 & 1 & 0 & diseases.ICD10:J40.diseaseCode.id.ICD10:J40                          & acute bronchitis                                               \\\\\n",
       "\t4 & 0 &       & 0 & 1 & 0 & diseases.ICD10:J45.diseaseCode.id.ICD10:J45                          & asthma                                                         \\\\\n",
       "\t5 & 0 &       & 0 & 1 & 0 & diseases.ICD10:K02.diseaseCode.id.ICD10:K02                          & dental caries                                                  \\\\\n",
       "\t6 & 0 &       & 0 & 1 & 0 & ethnicity.id.NCIT:C16352                                             & Black or Black British                                         \\\\\n",
       "\t7 & 0 &       & 0 & 1 & 0 & ethnicity.id.NCIT:C41260                                             & Asian or Asian British                                         \\\\\n",
       "\t8 & 0 &       & 0 & 1 & 0 & ethnicity.id.NCIT:C41261                                             & British                                                        \\\\\n",
       "\t9 & 0 &       & 0 & 1 & 0 & ethnicity.id.NCIT:C42331                                             & African                                                        \\\\\n",
       "\t10 & 1 & ----- & 1 & 1 & 0 & ethnicity.id.NCIT:C67109                                             & White and Asian                                                \\\\\n",
       "\t11 & 0 &       & 0 & 1 & 0 & geographicOrigin.id.GAZ:00002638                                     & Northern Ireland                                               \\\\\n",
       "\t12 & 0 &       & 0 & 1 & 0 & geographicOrigin.id.GAZ:00002639                                     & Scotland                                                       \\\\\n",
       "\t13 & 0 &       & 0 & 1 & 0 & geographicOrigin.id.GAZ:00002640                                     & Wales                                                          \\\\\n",
       "\t14 & 0 &       & 0 & 1 & 0 & geographicOrigin.id.GAZ:00002641                                     & England                                                        \\\\\n",
       "\t15 & 0 &       & 0 & 1 & 0 & geographicOrigin.id.GAZ:00004018                                     & Republic of Ireland                                            \\\\\n",
       "\t16 & 0 &       & 0 & 1 & 0 & id.HG00096                                                           & id.HG00096                                                     \\\\\n",
       "\t17 & 0 &       & 0 & 1 & 0 & id.HG00099                                                           & id.HG00099                                                     \\\\\n",
       "\t18 & 1 & ----- & 1 & 1 & 0 & id.HG00100                                                           & id.HG00100                                                     \\\\\n",
       "\t19 & 0 &       & 0 & 1 & 0 & id.HG00102                                                           & id.HG00102                                                     \\\\\n",
       "\t20 & 0 &       & 0 & 1 & 0 & id.HG00106                                                           & id.HG00106                                                     \\\\\n",
       "\t21 & 0 &       & 0 & 1 & 0 & id.HG00107                                                           & id.HG00107                                                     \\\\\n",
       "\t22 & 0 &       & 0 & 1 & 0 & id.HG00108                                                           & id.HG00108                                                     \\\\\n",
       "\t23 & 0 &       & 0 & 1 & 0 & id.HG00109                                                           & id.HG00109                                                     \\\\\n",
       "\t24 & 0 &       & 0 & 1 & 0 & id.HG00112                                                           & id.HG00112                                                     \\\\\n",
       "\t25 & 0 &       & 0 & 1 & 0 & id.HG00113                                                           & id.HG00113                                                     \\\\\n",
       "\t26 & 0 &       & 0 & 1 & 0 & interventionsOrProcedures.OPCS4:C01.8.procedureCode.id.OPCS4:C01.8   & OPCS(v4-0.0):Other specified excision of eye                   \\\\\n",
       "\t27 & 0 &       & 0 & 1 & 0 & interventionsOrProcedures.OPCS4:C45.5.procedureCode.id.OPCS4:C45.5   & OPCS(v4-0.0):Radiotherapy to lesion of cornea                  \\\\\n",
       "\t28 & 0 &       & 0 & 1 & 0 & interventionsOrProcedures.OPCS4:E55.9.procedureCode.id.OPCS4:E55.9   & OPCS(v4-0.0):Unspecified open extirpation of lesion of lung    \\\\\n",
       "\t29 & 0 &       & 0 & 1 & 0 & interventionsOrProcedures.OPCS4:H03.8.procedureCode.id.OPCS4:H03.8   & OPCS(v4-0.0):Other specified other operations on appendix      \\\\\n",
       "\t30 & 0 &       & 0 & 1 & 0 & interventionsOrProcedures.OPCS4:H34.1.procedureCode.id.OPCS4:H34.1   & OPCS(v4-0.0):Open excision of lesion of rectum                 \\\\\n",
       "\t31 & 0 &       & 0 & 1 & 0 & interventionsOrProcedures.OPCS4:L46.3.procedureCode.id.OPCS4:L46.3   & OPCS(v4-0.0):Ligation of visceral branch of abdominal aorta NEC\\\\\n",
       "\t32 & 1 & ----- & 1 & 1 & 0 & interventionsOrProcedures.OPCS4:T77.2.procedureCode.id.OPCS4:T77.2   & OPCS(v4-0.0):Wide excision of muscle                           \\\\\n",
       "\t33 & 0 &       & 0 & 1 & 0 & interventionsOrProcedures.OPCS4:T89.4.procedureCode.id.OPCS4:T89.4   & OPCS(v4-0.0):Cannulation of lymphatic duct                     \\\\\n",
       "\t34 & 0 &       & 0 & 1 & 0 & interventionsOrProcedures.OPCS4:X53.3.procedureCode.id.OPCS4:X53.3   & OPCS(v4-0.0):Destruction of lesion of unspecified organ        \\\\\n",
       "\t35 & 0 &       & 0 & 1 & 0 & interventionsOrProcedures.OPCS4:Z04.8.procedureCode.id.OPCS4:Z04.8   & OPCS(v4-0.0):Specified cranial nerve NEC                       \\\\\n",
       "\t36 & 1 & ----- & 1 & 1 & 0 & measures.LOINC:3141-9.assayCode.id.LOINC:3141-9                      & Weight                                                         \\\\\n",
       "\t37 & 1 & ----- & 1 & 1 & 0 & measures.LOINC:3141-9.date.2021-09-24                                & 2021-09-24                                                     \\\\\n",
       "\t38 & 1 & ----- & 1 & 1 & 0 & measures.LOINC:3141-9.measurementValue.quantity.unit.id.NCIT:C28252  & Kilogram                                                       \\\\\n",
       "\t39 & 1 & ----- & 1 & 1 & 0 & measures.LOINC:35925-4.assayCode.id.LOINC:35925-4                    & BMI                                                            \\\\\n",
       "\t40 & 1 & ----- & 1 & 1 & 0 & measures.LOINC:35925-4.date.2021-09-24                               & 2021-09-24                                                     \\\\\n",
       "\t41 & 1 & ----- & 1 & 1 & 0 & measures.LOINC:35925-4.measurementValue.quantity.unit.id.NCIT:C49671 & Kilogram per Square Meter                                      \\\\\n",
       "\t42 & 1 & ----- & 1 & 1 & 0 & measures.LOINC:8308-9.assayCode.id.LOINC:8308-9                      & Height-standing                                                \\\\\n",
       "\t43 & 1 & ----- & 1 & 1 & 0 & measures.LOINC:8308-9.date.2021-09-24                                & 2021-09-24                                                     \\\\\n",
       "\t44 & 1 & ----- & 1 & 1 & 0 & measures.LOINC:8308-9.measurementValue.quantity.unit.id.NCIT:C49668  & Centimeter                                                     \\\\\n",
       "\t45 & 1 & ----- & 1 & 1 & 0 & sex.id.NCIT:C16576                                                   & female                                                         \\\\\n",
       "\t46 & 0 &       & 0 & 1 & 0 & sex.id.NCIT:C20197                                                   & male                                                           \\\\\n",
       "\\end{tabular}\n"
      ],
      "text/markdown": [
       "\n",
       "A data.frame: 46 × 7\n",
       "\n",
       "| <!--/--> | Reference &lt;int&gt; | Indicator &lt;chr&gt; | Target &lt;int&gt; | Weight &lt;int&gt; | Hamming Distance &lt;int&gt; | JSON Path &lt;chr&gt; | Label &lt;chr&gt; |\n",
       "|---|---|---|---|---|---|---|---|\n",
       "| 1 | 0 | <!----> | 0 | 1 | 0 | diseases.ICD10:D50.diseaseCode.id.ICD10:D50                          | iron deficiency anaemia                                         |\n",
       "| 2 | 0 | <!----> | 0 | 1 | 0 | diseases.ICD10:E06.diseaseCode.id.ICD10:E06                          | thyroiditis                                                     |\n",
       "| 3 | 0 | <!----> | 0 | 1 | 0 | diseases.ICD10:J40.diseaseCode.id.ICD10:J40                          | acute bronchitis                                                |\n",
       "| 4 | 0 | <!----> | 0 | 1 | 0 | diseases.ICD10:J45.diseaseCode.id.ICD10:J45                          | asthma                                                          |\n",
       "| 5 | 0 | <!----> | 0 | 1 | 0 | diseases.ICD10:K02.diseaseCode.id.ICD10:K02                          | dental caries                                                   |\n",
       "| 6 | 0 | <!----> | 0 | 1 | 0 | ethnicity.id.NCIT:C16352                                             | Black or Black British                                          |\n",
       "| 7 | 0 | <!----> | 0 | 1 | 0 | ethnicity.id.NCIT:C41260                                             | Asian or Asian British                                          |\n",
       "| 8 | 0 | <!----> | 0 | 1 | 0 | ethnicity.id.NCIT:C41261                                             | British                                                         |\n",
       "| 9 | 0 | <!----> | 0 | 1 | 0 | ethnicity.id.NCIT:C42331                                             | African                                                         |\n",
       "| 10 | 1 | ----- | 1 | 1 | 0 | ethnicity.id.NCIT:C67109                                             | White and Asian                                                 |\n",
       "| 11 | 0 | <!----> | 0 | 1 | 0 | geographicOrigin.id.GAZ:00002638                                     | Northern Ireland                                                |\n",
       "| 12 | 0 | <!----> | 0 | 1 | 0 | geographicOrigin.id.GAZ:00002639                                     | Scotland                                                        |\n",
       "| 13 | 0 | <!----> | 0 | 1 | 0 | geographicOrigin.id.GAZ:00002640                                     | Wales                                                           |\n",
       "| 14 | 0 | <!----> | 0 | 1 | 0 | geographicOrigin.id.GAZ:00002641                                     | England                                                         |\n",
       "| 15 | 0 | <!----> | 0 | 1 | 0 | geographicOrigin.id.GAZ:00004018                                     | Republic of Ireland                                             |\n",
       "| 16 | 0 | <!----> | 0 | 1 | 0 | id.HG00096                                                           | id.HG00096                                                      |\n",
       "| 17 | 0 | <!----> | 0 | 1 | 0 | id.HG00099                                                           | id.HG00099                                                      |\n",
       "| 18 | 1 | ----- | 1 | 1 | 0 | id.HG00100                                                           | id.HG00100                                                      |\n",
       "| 19 | 0 | <!----> | 0 | 1 | 0 | id.HG00102                                                           | id.HG00102                                                      |\n",
       "| 20 | 0 | <!----> | 0 | 1 | 0 | id.HG00106                                                           | id.HG00106                                                      |\n",
       "| 21 | 0 | <!----> | 0 | 1 | 0 | id.HG00107                                                           | id.HG00107                                                      |\n",
       "| 22 | 0 | <!----> | 0 | 1 | 0 | id.HG00108                                                           | id.HG00108                                                      |\n",
       "| 23 | 0 | <!----> | 0 | 1 | 0 | id.HG00109                                                           | id.HG00109                                                      |\n",
       "| 24 | 0 | <!----> | 0 | 1 | 0 | id.HG00112                                                           | id.HG00112                                                      |\n",
       "| 25 | 0 | <!----> | 0 | 1 | 0 | id.HG00113                                                           | id.HG00113                                                      |\n",
       "| 26 | 0 | <!----> | 0 | 1 | 0 | interventionsOrProcedures.OPCS4:C01.8.procedureCode.id.OPCS4:C01.8   | OPCS(v4-0.0):Other specified excision of eye                    |\n",
       "| 27 | 0 | <!----> | 0 | 1 | 0 | interventionsOrProcedures.OPCS4:C45.5.procedureCode.id.OPCS4:C45.5   | OPCS(v4-0.0):Radiotherapy to lesion of cornea                   |\n",
       "| 28 | 0 | <!----> | 0 | 1 | 0 | interventionsOrProcedures.OPCS4:E55.9.procedureCode.id.OPCS4:E55.9   | OPCS(v4-0.0):Unspecified open extirpation of lesion of lung     |\n",
       "| 29 | 0 | <!----> | 0 | 1 | 0 | interventionsOrProcedures.OPCS4:H03.8.procedureCode.id.OPCS4:H03.8   | OPCS(v4-0.0):Other specified other operations on appendix       |\n",
       "| 30 | 0 | <!----> | 0 | 1 | 0 | interventionsOrProcedures.OPCS4:H34.1.procedureCode.id.OPCS4:H34.1   | OPCS(v4-0.0):Open excision of lesion of rectum                  |\n",
       "| 31 | 0 | <!----> | 0 | 1 | 0 | interventionsOrProcedures.OPCS4:L46.3.procedureCode.id.OPCS4:L46.3   | OPCS(v4-0.0):Ligation of visceral branch of abdominal aorta NEC |\n",
       "| 32 | 1 | ----- | 1 | 1 | 0 | interventionsOrProcedures.OPCS4:T77.2.procedureCode.id.OPCS4:T77.2   | OPCS(v4-0.0):Wide excision of muscle                            |\n",
       "| 33 | 0 | <!----> | 0 | 1 | 0 | interventionsOrProcedures.OPCS4:T89.4.procedureCode.id.OPCS4:T89.4   | OPCS(v4-0.0):Cannulation of lymphatic duct                      |\n",
       "| 34 | 0 | <!----> | 0 | 1 | 0 | interventionsOrProcedures.OPCS4:X53.3.procedureCode.id.OPCS4:X53.3   | OPCS(v4-0.0):Destruction of lesion of unspecified organ         |\n",
       "| 35 | 0 | <!----> | 0 | 1 | 0 | interventionsOrProcedures.OPCS4:Z04.8.procedureCode.id.OPCS4:Z04.8   | OPCS(v4-0.0):Specified cranial nerve NEC                        |\n",
       "| 36 | 1 | ----- | 1 | 1 | 0 | measures.LOINC:3141-9.assayCode.id.LOINC:3141-9                      | Weight                                                          |\n",
       "| 37 | 1 | ----- | 1 | 1 | 0 | measures.LOINC:3141-9.date.2021-09-24                                | 2021-09-24                                                      |\n",
       "| 38 | 1 | ----- | 1 | 1 | 0 | measures.LOINC:3141-9.measurementValue.quantity.unit.id.NCIT:C28252  | Kilogram                                                        |\n",
       "| 39 | 1 | ----- | 1 | 1 | 0 | measures.LOINC:35925-4.assayCode.id.LOINC:35925-4                    | BMI                                                             |\n",
       "| 40 | 1 | ----- | 1 | 1 | 0 | measures.LOINC:35925-4.date.2021-09-24                               | 2021-09-24                                                      |\n",
       "| 41 | 1 | ----- | 1 | 1 | 0 | measures.LOINC:35925-4.measurementValue.quantity.unit.id.NCIT:C49671 | Kilogram per Square Meter                                       |\n",
       "| 42 | 1 | ----- | 1 | 1 | 0 | measures.LOINC:8308-9.assayCode.id.LOINC:8308-9                      | Height-standing                                                 |\n",
       "| 43 | 1 | ----- | 1 | 1 | 0 | measures.LOINC:8308-9.date.2021-09-24                                | 2021-09-24                                                      |\n",
       "| 44 | 1 | ----- | 1 | 1 | 0 | measures.LOINC:8308-9.measurementValue.quantity.unit.id.NCIT:C49668  | Centimeter                                                      |\n",
       "| 45 | 1 | ----- | 1 | 1 | 0 | sex.id.NCIT:C16576                                                   | female                                                          |\n",
       "| 46 | 0 | <!----> | 0 | 1 | 0 | sex.id.NCIT:C20197                                                   | male                                                            |\n",
       "\n"
      ],
      "text/plain": [
       "   Reference Indicator Target Weight Hamming Distance\n",
       "1  0                   0      1      0               \n",
       "2  0                   0      1      0               \n",
       "3  0                   0      1      0               \n",
       "4  0                   0      1      0               \n",
       "5  0                   0      1      0               \n",
       "6  0                   0      1      0               \n",
       "7  0                   0      1      0               \n",
       "8  0                   0      1      0               \n",
       "9  0                   0      1      0               \n",
       "10 1         -----     1      1      0               \n",
       "11 0                   0      1      0               \n",
       "12 0                   0      1      0               \n",
       "13 0                   0      1      0               \n",
       "14 0                   0      1      0               \n",
       "15 0                   0      1      0               \n",
       "16 0                   0      1      0               \n",
       "17 0                   0      1      0               \n",
       "18 1         -----     1      1      0               \n",
       "19 0                   0      1      0               \n",
       "20 0                   0      1      0               \n",
       "21 0                   0      1      0               \n",
       "22 0                   0      1      0               \n",
       "23 0                   0      1      0               \n",
       "24 0                   0      1      0               \n",
       "25 0                   0      1      0               \n",
       "26 0                   0      1      0               \n",
       "27 0                   0      1      0               \n",
       "28 0                   0      1      0               \n",
       "29 0                   0      1      0               \n",
       "30 0                   0      1      0               \n",
       "31 0                   0      1      0               \n",
       "32 1         -----     1      1      0               \n",
       "33 0                   0      1      0               \n",
       "34 0                   0      1      0               \n",
       "35 0                   0      1      0               \n",
       "36 1         -----     1      1      0               \n",
       "37 1         -----     1      1      0               \n",
       "38 1         -----     1      1      0               \n",
       "39 1         -----     1      1      0               \n",
       "40 1         -----     1      1      0               \n",
       "41 1         -----     1      1      0               \n",
       "42 1         -----     1      1      0               \n",
       "43 1         -----     1      1      0               \n",
       "44 1         -----     1      1      0               \n",
       "45 1         -----     1      1      0               \n",
       "46 0                   0      1      0               \n",
       "   JSON Path                                                           \n",
       "1  diseases.ICD10:D50.diseaseCode.id.ICD10:D50                         \n",
       "2  diseases.ICD10:E06.diseaseCode.id.ICD10:E06                         \n",
       "3  diseases.ICD10:J40.diseaseCode.id.ICD10:J40                         \n",
       "4  diseases.ICD10:J45.diseaseCode.id.ICD10:J45                         \n",
       "5  diseases.ICD10:K02.diseaseCode.id.ICD10:K02                         \n",
       "6  ethnicity.id.NCIT:C16352                                            \n",
       "7  ethnicity.id.NCIT:C41260                                            \n",
       "8  ethnicity.id.NCIT:C41261                                            \n",
       "9  ethnicity.id.NCIT:C42331                                            \n",
       "10 ethnicity.id.NCIT:C67109                                            \n",
       "11 geographicOrigin.id.GAZ:00002638                                    \n",
       "12 geographicOrigin.id.GAZ:00002639                                    \n",
       "13 geographicOrigin.id.GAZ:00002640                                    \n",
       "14 geographicOrigin.id.GAZ:00002641                                    \n",
       "15 geographicOrigin.id.GAZ:00004018                                    \n",
       "16 id.HG00096                                                          \n",
       "17 id.HG00099                                                          \n",
       "18 id.HG00100                                                          \n",
       "19 id.HG00102                                                          \n",
       "20 id.HG00106                                                          \n",
       "21 id.HG00107                                                          \n",
       "22 id.HG00108                                                          \n",
       "23 id.HG00109                                                          \n",
       "24 id.HG00112                                                          \n",
       "25 id.HG00113                                                          \n",
       "26 interventionsOrProcedures.OPCS4:C01.8.procedureCode.id.OPCS4:C01.8  \n",
       "27 interventionsOrProcedures.OPCS4:C45.5.procedureCode.id.OPCS4:C45.5  \n",
       "28 interventionsOrProcedures.OPCS4:E55.9.procedureCode.id.OPCS4:E55.9  \n",
       "29 interventionsOrProcedures.OPCS4:H03.8.procedureCode.id.OPCS4:H03.8  \n",
       "30 interventionsOrProcedures.OPCS4:H34.1.procedureCode.id.OPCS4:H34.1  \n",
       "31 interventionsOrProcedures.OPCS4:L46.3.procedureCode.id.OPCS4:L46.3  \n",
       "32 interventionsOrProcedures.OPCS4:T77.2.procedureCode.id.OPCS4:T77.2  \n",
       "33 interventionsOrProcedures.OPCS4:T89.4.procedureCode.id.OPCS4:T89.4  \n",
       "34 interventionsOrProcedures.OPCS4:X53.3.procedureCode.id.OPCS4:X53.3  \n",
       "35 interventionsOrProcedures.OPCS4:Z04.8.procedureCode.id.OPCS4:Z04.8  \n",
       "36 measures.LOINC:3141-9.assayCode.id.LOINC:3141-9                     \n",
       "37 measures.LOINC:3141-9.date.2021-09-24                               \n",
       "38 measures.LOINC:3141-9.measurementValue.quantity.unit.id.NCIT:C28252 \n",
       "39 measures.LOINC:35925-4.assayCode.id.LOINC:35925-4                   \n",
       "40 measures.LOINC:35925-4.date.2021-09-24                              \n",
       "41 measures.LOINC:35925-4.measurementValue.quantity.unit.id.NCIT:C49671\n",
       "42 measures.LOINC:8308-9.assayCode.id.LOINC:8308-9                     \n",
       "43 measures.LOINC:8308-9.date.2021-09-24                               \n",
       "44 measures.LOINC:8308-9.measurementValue.quantity.unit.id.NCIT:C49668 \n",
       "45 sex.id.NCIT:C16576                                                  \n",
       "46 sex.id.NCIT:C20197                                                  \n",
       "   Label                                                          \n",
       "1  iron deficiency anaemia                                        \n",
       "2  thyroiditis                                                    \n",
       "3  acute bronchitis                                               \n",
       "4  asthma                                                         \n",
       "5  dental caries                                                  \n",
       "6  Black or Black British                                         \n",
       "7  Asian or Asian British                                         \n",
       "8  British                                                        \n",
       "9  African                                                        \n",
       "10 White and Asian                                                \n",
       "11 Northern Ireland                                               \n",
       "12 Scotland                                                       \n",
       "13 Wales                                                          \n",
       "14 England                                                        \n",
       "15 Republic of Ireland                                            \n",
       "16 id.HG00096                                                     \n",
       "17 id.HG00099                                                     \n",
       "18 id.HG00100                                                     \n",
       "19 id.HG00102                                                     \n",
       "20 id.HG00106                                                     \n",
       "21 id.HG00107                                                     \n",
       "22 id.HG00108                                                     \n",
       "23 id.HG00109                                                     \n",
       "24 id.HG00112                                                     \n",
       "25 id.HG00113                                                     \n",
       "26 OPCS(v4-0.0):Other specified excision of eye                   \n",
       "27 OPCS(v4-0.0):Radiotherapy to lesion of cornea                  \n",
       "28 OPCS(v4-0.0):Unspecified open extirpation of lesion of lung    \n",
       "29 OPCS(v4-0.0):Other specified other operations on appendix      \n",
       "30 OPCS(v4-0.0):Open excision of lesion of rectum                 \n",
       "31 OPCS(v4-0.0):Ligation of visceral branch of abdominal aorta NEC\n",
       "32 OPCS(v4-0.0):Wide excision of muscle                           \n",
       "33 OPCS(v4-0.0):Cannulation of lymphatic duct                     \n",
       "34 OPCS(v4-0.0):Destruction of lesion of unspecified organ        \n",
       "35 OPCS(v4-0.0):Specified cranial nerve NEC                       \n",
       "36 Weight                                                         \n",
       "37 2021-09-24                                                     \n",
       "38 Kilogram                                                       \n",
       "39 BMI                                                            \n",
       "40 2021-09-24                                                     \n",
       "41 Kilogram per Square Meter                                      \n",
       "42 Height-standing                                                \n",
       "43 2021-09-24                                                     \n",
       "44 Centimeter                                                     \n",
       "45 female                                                         \n",
       "46 male                                                           "
      ]
     },
     "metadata": {},
     "output_type": "display_data"
    }
   ],
   "source": [
    "pat_id <- \"HG00100\"\n",
    "\n",
    "# alignment_df\n",
    "filtered_df <- alignment_df[alignment_df[, 1] == pat_id, ]\n",
    "\n",
    "# remove the first column\n",
    "filtered_df <- filtered_df[, -1]\n",
    "colnames(filtered_df) <- c(\n",
    "  \"Reference\", \"Indicator\",\n",
    "  \"Target\", \"Weight\",\n",
    "  \"Hamming Distance\", \"JSON Path\", \"Label\"\n",
    ")\n",
    "\n",
    "filtered_df"
   ]
  },
  {
   "cell_type": "code",
   "execution_count": 4,
   "metadata": {
    "vscode": {
     "languageId": "r"
    }
   },
   "outputs": [
    {
     "ename": "ERROR",
     "evalue": "Error: object 'bin_df' not found\n",
     "output_type": "error",
     "traceback": [
      "Error: object 'bin_df' not found\nTraceback:\n"
     ]
    }
   ],
   "source": [
    "top_level_row <- bin_df[1,]\n",
    "\n",
    "# in the top level row remove everything after the first dot\n",
    "top_level_row <- gsub(\"\\\\..*\", \"\", top_level_row)\n",
    "top_level_row[1] <- \"top_level\"\n",
    "\n",
    "# add the top level row to the data frame\n",
    "bin_df2 <- rbind(top_level_row, bin_df)\n",
    "\n",
    "input_format <- \"bff\"\n",
    "# json_data\n",
    "\n",
    "color_map <- json_data[[input_format]]\n",
    "\n",
    "# add a new row containing the colors\n",
    "color_row <- unlist(sapply(\n",
    "  bin_df2[1,],\n",
    "  function(x) color_map[[x]]\n",
    "))\n",
    "color_row <- c(\"background-color\", color_row)\n",
    "\n",
    "# add the color row to the data frame\n",
    "bin_df2 <- rbind(color_row, bin_df2)\n",
    "bin_df2"
   ]
  },
  {
   "cell_type": "code",
   "execution_count": 28,
   "metadata": {
    "vscode": {
     "languageId": "r"
    }
   },
   "outputs": [
    {
     "data": {
      "text/plain": [
       "\n",
       "                 diseases                 ethnicity          geographicOrigin \n",
       "                        5                         5                         5 \n",
       "                       id interventionsOrProcedures                  measures \n",
       "                       10                        10                         9 \n",
       "                      sex \n",
       "                        2 "
      ]
     },
     "metadata": {},
     "output_type": "display_data"
    },
    {
     "data": {
      "text/html": [
       "<style>\n",
       ".dl-inline {width: auto; margin:0; padding: 0}\n",
       ".dl-inline>dt, .dl-inline>dd {float: none; width: auto; display: inline-block}\n",
       ".dl-inline>dt::after {content: \":\\0020\"; padding-right: .5ex}\n",
       ".dl-inline>dt:not(:first-of-type) {padding-left: .5ex}\n",
       "</style><dl class=dl-inline><dt>diseases</dt><dd>'rgb(158, 1, 66)'</dd><dt>ethnicity</dt><dd>'rgb(213, 62, 79)'</dd><dt>geographicOrigin</dt><dd>'rgb(253, 174, 97)'</dd><dt>id</dt><dd>'rgb(189, 195, 199)'</dd><dt>interventionsOrProcedures</dt><dd>'rgb(255, 255, 191)'</dd><dt>measures</dt><dd>'rgb(171, 221, 164)'</dd><dt>sex</dt><dd>'rgb(94, 79, 162)'</dd></dl>\n"
      ],
      "text/latex": [
       "\\begin{description*}\n",
       "\\item[diseases] 'rgb(158, 1, 66)'\n",
       "\\item[ethnicity] 'rgb(213, 62, 79)'\n",
       "\\item[geographicOrigin] 'rgb(253, 174, 97)'\n",
       "\\item[id] 'rgb(189, 195, 199)'\n",
       "\\item[interventionsOrProcedures] 'rgb(255, 255, 191)'\n",
       "\\item[measures] 'rgb(171, 221, 164)'\n",
       "\\item[sex] 'rgb(94, 79, 162)'\n",
       "\\end{description*}\n"
      ],
      "text/markdown": [
       "diseases\n",
       ":   'rgb(158, 1, 66)'ethnicity\n",
       ":   'rgb(213, 62, 79)'geographicOrigin\n",
       ":   'rgb(253, 174, 97)'id\n",
       ":   'rgb(189, 195, 199)'interventionsOrProcedures\n",
       ":   'rgb(255, 255, 191)'measures\n",
       ":   'rgb(171, 221, 164)'sex\n",
       ":   'rgb(94, 79, 162)'\n",
       "\n"
      ],
      "text/plain": [
       "                 diseases                 ethnicity          geographicOrigin \n",
       "        \"rgb(158, 1, 66)\"        \"rgb(213, 62, 79)\"       \"rgb(253, 174, 97)\" \n",
       "                       id interventionsOrProcedures                  measures \n",
       "     \"rgb(189, 195, 199)\"      \"rgb(255, 255, 191)\"      \"rgb(171, 221, 164)\" \n",
       "                      sex \n",
       "       \"rgb(94, 79, 162)\" "
      ]
     },
     "metadata": {},
     "output_type": "display_data"
    },
    {
     "data": {
      "text/html": [
       "'&lt;th colspan=\"5\" style=\"background-color:rgb(158, 1, 66);\"&gt;diseases&lt;/th&gt;&lt;th colspan=\"5\" style=\"background-color:rgb(213, 62, 79);\"&gt;ethnicity&lt;/th&gt;&lt;th colspan=\"5\" style=\"background-color:rgb(253, 174, 97);\"&gt;geographicOrigin&lt;/th&gt;&lt;th colspan=\"10\" style=\"background-color:rgb(189, 195, 199);\"&gt;id&lt;/th&gt;&lt;th colspan=\"10\" style=\"background-color:rgb(255, 255, 191);\"&gt;interventionsOrProcedures&lt;/th&gt;&lt;th colspan=\"9\" style=\"background-color:rgb(171, 221, 164);\"&gt;measures&lt;/th&gt;&lt;th colspan=\"2\" style=\"background-color:rgb(94, 79, 162);\"&gt;sex&lt;/th&gt;'"
      ],
      "text/latex": [
       "'<th colspan=\"5\" style=\"background-color:rgb(158, 1, 66);\">diseases</th><th colspan=\"5\" style=\"background-color:rgb(213, 62, 79);\">ethnicity</th><th colspan=\"5\" style=\"background-color:rgb(253, 174, 97);\">geographicOrigin</th><th colspan=\"10\" style=\"background-color:rgb(189, 195, 199);\">id</th><th colspan=\"10\" style=\"background-color:rgb(255, 255, 191);\">interventionsOrProcedures</th><th colspan=\"9\" style=\"background-color:rgb(171, 221, 164);\">measures</th><th colspan=\"2\" style=\"background-color:rgb(94, 79, 162);\">sex</th>'"
      ],
      "text/markdown": [
       "'&lt;th colspan=\"5\" style=\"background-color:rgb(158, 1, 66);\"&gt;diseases&lt;/th&gt;&lt;th colspan=\"5\" style=\"background-color:rgb(213, 62, 79);\"&gt;ethnicity&lt;/th&gt;&lt;th colspan=\"5\" style=\"background-color:rgb(253, 174, 97);\"&gt;geographicOrigin&lt;/th&gt;&lt;th colspan=\"10\" style=\"background-color:rgb(189, 195, 199);\"&gt;id&lt;/th&gt;&lt;th colspan=\"10\" style=\"background-color:rgb(255, 255, 191);\"&gt;interventionsOrProcedures&lt;/th&gt;&lt;th colspan=\"9\" style=\"background-color:rgb(171, 221, 164);\"&gt;measures&lt;/th&gt;&lt;th colspan=\"2\" style=\"background-color:rgb(94, 79, 162);\"&gt;sex&lt;/th&gt;'"
      ],
      "text/plain": [
       "[1] \"<th colspan=\\\"5\\\" style=\\\"background-color:rgb(158, 1, 66);\\\">diseases</th><th colspan=\\\"5\\\" style=\\\"background-color:rgb(213, 62, 79);\\\">ethnicity</th><th colspan=\\\"5\\\" style=\\\"background-color:rgb(253, 174, 97);\\\">geographicOrigin</th><th colspan=\\\"10\\\" style=\\\"background-color:rgb(189, 195, 199);\\\">id</th><th colspan=\\\"10\\\" style=\\\"background-color:rgb(255, 255, 191);\\\">interventionsOrProcedures</th><th colspan=\\\"9\\\" style=\\\"background-color:rgb(171, 221, 164);\\\">measures</th><th colspan=\\\"2\\\" style=\\\"background-color:rgb(94, 79, 162);\\\">sex</th>\""
      ]
     },
     "metadata": {},
     "output_type": "display_data"
    }
   ],
   "source": [
    "# extra header row containing the top level value\n",
    "# while its cells are merged by top level\n",
    "\n",
    "top_level_to_count <- table(top_level_row[-1])\n",
    "top_level_to_count\n",
    "\n",
    "top_level_to_color <- setNames(\n",
    "  unique(color_row[-1]),\n",
    "  unique(top_level_row[-1])\n",
    ")\n",
    "\n",
    "top_level_to_color\n",
    "\n",
    "header_row <- paste(\n",
    "  sapply(names(top_level_to_count), function(name) {\n",
    "    colspan_value <- top_level_to_count[[name]]\n",
    "    color <- top_level_to_color[[name]]\n",
    "    sprintf(\n",
    "      '<th colspan=\"%d\" style=\"background-color:%s;\">%s</th>',\n",
    "      colspan_value, color, name\n",
    "    )\n",
    "  }),\n",
    "  collapse = \"\"  # Collapse into a single string\n",
    ")\n",
    "header_row"
   ]
  },
  {
   "cell_type": "code",
   "execution_count": 29,
   "metadata": {
    "vscode": {
     "languageId": "r"
    }
   },
   "outputs": [],
   "source": [
    "# JavaScript to prepend the header row\n",
    "headerCallback <- JS(\n",
    "  \"function(thead, data, start, end, display) {\",\n",
    "  sprintf(\"$(thead).closest('thead').prepend('<tr><th></th>%s</tr>');\", header_row),\n",
    "  \"}\"\n",
    ")\n",
    "\n",
    "\n",
    "# JavaScript to color the columns based on the values in the 2nd row of the data\n",
    "initComplete <- JS(\n",
    "  \"function(settings, json) {\",\n",
    "  \"$('tbody tr').each(function() {\",\n",
    "    # Loop over each column to set background color based on the value in the first row (background-color)\n",
    "    \"for (var i = 0; i < $('tbody tr:eq(0) td').length; i++) {\",\n",
    "      \"var color = $('tbody tr:eq(0)').find('td:eq(' + i + ')').text();\",\n",
    "      \"console.log(color);\",\n",
    "\n",
    "      # Apply background color to the cell\n",
    "      \"$('tbody tr').find('td:eq(' + i + ')').css('background-color', color);\",\n",
    "      \"$('thead th.sorting').eq(i).css('background-color', color);\",  # Apply background color to the header\n",
    "\n",
    "      # hide the row with the colors\n",
    "      \"$('tbody tr').eq(0).hide();\",\n",
    "    \"}\",\n",
    "  \"});\",\n",
    "  \"}\"\n",
    ")\n",
    "\n",
    "# remove row 2 and 3\n",
    "bin_df3 <- bin_df2[-c(2, 3),]\n",
    "\n",
    "dt <- datatable(\n",
    "  bin_df3,\n",
    "  rownames = FALSE,\n",
    "  escape = FALSE,\n",
    "  options = list(\n",
    "    headerCallback = headerCallback,\n",
    "    initComplete = initComplete\n",
    "  )\n",
    ")\n",
    "\n",
    "saved_wiget_path <- \"notebooks/saved_widgets\"\n",
    "widget_fn <- \"binary_representation.html\"\n",
    "\n",
    "saveWidget(\n",
    "  dt,\n",
    "  file.path(\n",
    "    saved_wiget_path,\n",
    "    widget_fn\n",
    "  )\n",
    ")\n"
   ]
  },
  {
   "cell_type": "code",
   "execution_count": 30,
   "metadata": {
    "vscode": {
     "languageId": "r"
    }
   },
   "outputs": [
    {
     "data": {
      "text/html": [
       "<iframe src='http://localhost:5500/jupyrenv/notebooks/saved_widgets/binary_representation.html' width='100%' height='500px'></iframe>"
      ]
     },
     "metadata": {},
     "output_type": "display_data"
    }
   ],
   "source": [
    "# make sure that vscode is running the live server\n",
    "live_server_path <- \"http://localhost:5500/jupyrenv/notebooks/saved_widgets\"\n",
    "iframe_src <- paste0(\n",
    "  live_server_path,\n",
    "  \"/\",\n",
    "  widget_fn\n",
    ")\n",
    "\n",
    "display_html(\n",
    "  paste0(\n",
    "    \"<iframe src='\",\n",
    "    iframe_src,\n",
    "    \"' width='100%' height='500px'></iframe>\"\n",
    "  )\n",
    ")"
   ]
  },
  {
   "cell_type": "code",
   "execution_count": null,
   "metadata": {
    "vscode": {
     "languageId": "r"
    }
   },
   "outputs": [],
   "source": []
  }
 ],
 "metadata": {
  "kernelspec": {
   "display_name": "R",
   "language": "R",
   "name": "ir"
  },
  "language_info": {
   "codemirror_mode": "r",
   "file_extension": ".r",
   "mimetype": "text/x-r-source",
   "name": "R",
   "pygments_lexer": "r",
   "version": "4.4.1"
  }
 },
 "nbformat": 4,
 "nbformat_minor": 2
}
