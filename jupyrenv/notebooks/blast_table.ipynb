{
 "cells": [
  {
   "cell_type": "markdown",
   "metadata": {},
   "source": [
    "---\n",
    "title: \"pheno heads up (blast) table\" \n",
    "format: html\n",
    "execute:\n",
    "    eval: true\n",
    "jupyter: IRkernel\n",
    "---"
   ]
  },
  {
   "cell_type": "code",
   "execution_count": 1,
   "metadata": {
    "vscode": {
     "languageId": "r"
    }
   },
   "outputs": [],
   "source": [
    "library(jsonlite)\n",
    "library(DT)\n",
    "library(IRdisplay)\n",
    "library(htmlwidgets)"
   ]
  },
  {
   "cell_type": "code",
   "execution_count": 2,
   "metadata": {
    "vscode": {
     "languageId": "r"
    }
   },
   "outputs": [],
   "source": [
    "config_dir <- \"../phenoRankeR/inst/extdata/config\"\n",
    "json_data <- fromJSON(file.path(config_dir, \"pheno_blast_col_colors.json\"))"
   ]
  },
  {
   "cell_type": "code",
   "execution_count": 11,
   "metadata": {
    "vscode": {
     "languageId": "r"
    }
   },
   "outputs": [
    {
     "name": "stdout",
     "output_type": "stream",
     "text": [
      "[1] \"../data/user_data/pheno.ranker@playground.com/output/rankedPatients/20241006015118/20241006015118_alignment.target.csv\"\n"
     ]
    },
    {
     "data": {
      "text/html": [
       "<table class=\"dataframe\">\n",
       "<caption>A data.frame: 6 × 8</caption>\n",
       "<thead>\n",
       "\t<tr><th></th><th scope=col>id</th><th scope=col>ref</th><th scope=col>indicator</th><th scope=col>tar</th><th scope=col>weight</th><th scope=col>hamming.distance</th><th scope=col>json.path</th><th scope=col>label</th></tr>\n",
       "\t<tr><th></th><th scope=col>&lt;chr&gt;</th><th scope=col>&lt;int&gt;</th><th scope=col>&lt;chr&gt;</th><th scope=col>&lt;int&gt;</th><th scope=col>&lt;int&gt;</th><th scope=col>&lt;int&gt;</th><th scope=col>&lt;chr&gt;</th><th scope=col>&lt;chr&gt;</th></tr>\n",
       "</thead>\n",
       "<tbody>\n",
       "\t<tr><th scope=row>1</th><td>HG00100</td><td>0</td><td>     </td><td>0</td><td>1</td><td>0</td><td>diseases.ICD10:D50.diseaseCode.id.ICD10:D50</td><td>iron deficiency anaemia</td></tr>\n",
       "\t<tr><th scope=row>2</th><td>HG00100</td><td>0</td><td>     </td><td>0</td><td>1</td><td>0</td><td>diseases.ICD10:E06.diseaseCode.id.ICD10:E06</td><td>thyroiditis            </td></tr>\n",
       "\t<tr><th scope=row>3</th><td>HG00100</td><td>0</td><td>     </td><td>0</td><td>1</td><td>0</td><td>diseases.ICD10:J40.diseaseCode.id.ICD10:J40</td><td>acute bronchitis       </td></tr>\n",
       "\t<tr><th scope=row>4</th><td>HG00100</td><td>0</td><td>     </td><td>0</td><td>1</td><td>0</td><td>diseases.ICD10:J45.diseaseCode.id.ICD10:J45</td><td>asthma                 </td></tr>\n",
       "\t<tr><th scope=row>5</th><td>HG00100</td><td>0</td><td>     </td><td>0</td><td>1</td><td>0</td><td>diseases.ICD10:K02.diseaseCode.id.ICD10:K02</td><td>dental caries          </td></tr>\n",
       "\t<tr><th scope=row>6</th><td>HG00100</td><td>0</td><td>     </td><td>0</td><td>1</td><td>0</td><td>ethnicity.id.NCIT:C16352                   </td><td>Black or Black British </td></tr>\n",
       "</tbody>\n",
       "</table>\n"
      ],
      "text/latex": [
       "A data.frame: 6 × 8\n",
       "\\begin{tabular}{r|llllllll}\n",
       "  & id & ref & indicator & tar & weight & hamming.distance & json.path & label\\\\\n",
       "  & <chr> & <int> & <chr> & <int> & <int> & <int> & <chr> & <chr>\\\\\n",
       "\\hline\n",
       "\t1 & HG00100 & 0 &       & 0 & 1 & 0 & diseases.ICD10:D50.diseaseCode.id.ICD10:D50 & iron deficiency anaemia\\\\\n",
       "\t2 & HG00100 & 0 &       & 0 & 1 & 0 & diseases.ICD10:E06.diseaseCode.id.ICD10:E06 & thyroiditis            \\\\\n",
       "\t3 & HG00100 & 0 &       & 0 & 1 & 0 & diseases.ICD10:J40.diseaseCode.id.ICD10:J40 & acute bronchitis       \\\\\n",
       "\t4 & HG00100 & 0 &       & 0 & 1 & 0 & diseases.ICD10:J45.diseaseCode.id.ICD10:J45 & asthma                 \\\\\n",
       "\t5 & HG00100 & 0 &       & 0 & 1 & 0 & diseases.ICD10:K02.diseaseCode.id.ICD10:K02 & dental caries          \\\\\n",
       "\t6 & HG00100 & 0 &       & 0 & 1 & 0 & ethnicity.id.NCIT:C16352                    & Black or Black British \\\\\n",
       "\\end{tabular}\n"
      ],
      "text/markdown": [
       "\n",
       "A data.frame: 6 × 8\n",
       "\n",
       "| <!--/--> | id &lt;chr&gt; | ref &lt;int&gt; | indicator &lt;chr&gt; | tar &lt;int&gt; | weight &lt;int&gt; | hamming.distance &lt;int&gt; | json.path &lt;chr&gt; | label &lt;chr&gt; |\n",
       "|---|---|---|---|---|---|---|---|---|\n",
       "| 1 | HG00100 | 0 | <!----> | 0 | 1 | 0 | diseases.ICD10:D50.diseaseCode.id.ICD10:D50 | iron deficiency anaemia |\n",
       "| 2 | HG00100 | 0 | <!----> | 0 | 1 | 0 | diseases.ICD10:E06.diseaseCode.id.ICD10:E06 | thyroiditis             |\n",
       "| 3 | HG00100 | 0 | <!----> | 0 | 1 | 0 | diseases.ICD10:J40.diseaseCode.id.ICD10:J40 | acute bronchitis        |\n",
       "| 4 | HG00100 | 0 | <!----> | 0 | 1 | 0 | diseases.ICD10:J45.diseaseCode.id.ICD10:J45 | asthma                  |\n",
       "| 5 | HG00100 | 0 | <!----> | 0 | 1 | 0 | diseases.ICD10:K02.diseaseCode.id.ICD10:K02 | dental caries           |\n",
       "| 6 | HG00100 | 0 | <!----> | 0 | 1 | 0 | ethnicity.id.NCIT:C16352                    | Black or Black British  |\n",
       "\n"
      ],
      "text/plain": [
       "  id      ref indicator tar weight hamming.distance\n",
       "1 HG00100 0             0   1      0               \n",
       "2 HG00100 0             0   1      0               \n",
       "3 HG00100 0             0   1      0               \n",
       "4 HG00100 0             0   1      0               \n",
       "5 HG00100 0             0   1      0               \n",
       "6 HG00100 0             0   1      0               \n",
       "  json.path                                   label                  \n",
       "1 diseases.ICD10:D50.diseaseCode.id.ICD10:D50 iron deficiency anaemia\n",
       "2 diseases.ICD10:E06.diseaseCode.id.ICD10:E06 thyroiditis            \n",
       "3 diseases.ICD10:J40.diseaseCode.id.ICD10:J40 acute bronchitis       \n",
       "4 diseases.ICD10:J45.diseaseCode.id.ICD10:J45 asthma                 \n",
       "5 diseases.ICD10:K02.diseaseCode.id.ICD10:K02 dental caries          \n",
       "6 ethnicity.id.NCIT:C16352                    Black or Black British "
      ]
     },
     "metadata": {},
     "output_type": "display_data"
    }
   ],
   "source": [
    "user <- \"pheno.ranker@playground.com\"\n",
    "run_id <- \"20241006015118\"\n",
    "\n",
    "user_dir <- file.path(\"../data/user_data\", user)\n",
    "out_dir <- file.path(user_dir, \"output/rankedPatients\", run_id)\n",
    "file_suffix <- \"_alignment.target.csv\"\n",
    "\n",
    "file_path <- file.path(\n",
    "  out_dir,\n",
    "  paste0(run_id, file_suffix)\n",
    ")\n",
    "print(file_path)\n",
    "\n",
    "alignment_df <- read.table(\n",
    "  file_path,\n",
    "  header = TRUE,\n",
    "  sep = \";\",\n",
    "  row.names = NULL\n",
    ")\n",
    "head(alignment_df)"
   ]
  },
  {
   "cell_type": "code",
   "execution_count": 13,
   "metadata": {
    "vscode": {
     "languageId": "r"
    }
   },
   "outputs": [
    {
     "data": {
      "text/html": [
       "<table class=\"dataframe\">\n",
       "<caption>A data.frame: 6 × 7</caption>\n",
       "<thead>\n",
       "\t<tr><th></th><th scope=col>Reference</th><th scope=col>Indicator</th><th scope=col>Target</th><th scope=col>Weight</th><th scope=col>Hamming Distance</th><th scope=col>JSON Path</th><th scope=col>Label</th></tr>\n",
       "\t<tr><th></th><th scope=col>&lt;int&gt;</th><th scope=col>&lt;chr&gt;</th><th scope=col>&lt;int&gt;</th><th scope=col>&lt;int&gt;</th><th scope=col>&lt;int&gt;</th><th scope=col>&lt;chr&gt;</th><th scope=col>&lt;chr&gt;</th></tr>\n",
       "</thead>\n",
       "<tbody>\n",
       "\t<tr><th scope=row>1</th><td>0</td><td>     </td><td>0</td><td>1</td><td>0</td><td>diseases.ICD10:D50.diseaseCode.id.ICD10:D50</td><td>iron deficiency anaemia</td></tr>\n",
       "\t<tr><th scope=row>2</th><td>0</td><td>     </td><td>0</td><td>1</td><td>0</td><td>diseases.ICD10:E06.diseaseCode.id.ICD10:E06</td><td>thyroiditis            </td></tr>\n",
       "\t<tr><th scope=row>3</th><td>0</td><td>     </td><td>0</td><td>1</td><td>0</td><td>diseases.ICD10:J40.diseaseCode.id.ICD10:J40</td><td>acute bronchitis       </td></tr>\n",
       "\t<tr><th scope=row>4</th><td>0</td><td>     </td><td>0</td><td>1</td><td>0</td><td>diseases.ICD10:J45.diseaseCode.id.ICD10:J45</td><td>asthma                 </td></tr>\n",
       "\t<tr><th scope=row>5</th><td>0</td><td>     </td><td>0</td><td>1</td><td>0</td><td>diseases.ICD10:K02.diseaseCode.id.ICD10:K02</td><td>dental caries          </td></tr>\n",
       "\t<tr><th scope=row>6</th><td>0</td><td>     </td><td>0</td><td>1</td><td>0</td><td>ethnicity.id.NCIT:C16352                   </td><td>Black or Black British </td></tr>\n",
       "</tbody>\n",
       "</table>\n"
      ],
      "text/latex": [
       "A data.frame: 6 × 7\n",
       "\\begin{tabular}{r|lllllll}\n",
       "  & Reference & Indicator & Target & Weight & Hamming Distance & JSON Path & Label\\\\\n",
       "  & <int> & <chr> & <int> & <int> & <int> & <chr> & <chr>\\\\\n",
       "\\hline\n",
       "\t1 & 0 &       & 0 & 1 & 0 & diseases.ICD10:D50.diseaseCode.id.ICD10:D50 & iron deficiency anaemia\\\\\n",
       "\t2 & 0 &       & 0 & 1 & 0 & diseases.ICD10:E06.diseaseCode.id.ICD10:E06 & thyroiditis            \\\\\n",
       "\t3 & 0 &       & 0 & 1 & 0 & diseases.ICD10:J40.diseaseCode.id.ICD10:J40 & acute bronchitis       \\\\\n",
       "\t4 & 0 &       & 0 & 1 & 0 & diseases.ICD10:J45.diseaseCode.id.ICD10:J45 & asthma                 \\\\\n",
       "\t5 & 0 &       & 0 & 1 & 0 & diseases.ICD10:K02.diseaseCode.id.ICD10:K02 & dental caries          \\\\\n",
       "\t6 & 0 &       & 0 & 1 & 0 & ethnicity.id.NCIT:C16352                    & Black or Black British \\\\\n",
       "\\end{tabular}\n"
      ],
      "text/markdown": [
       "\n",
       "A data.frame: 6 × 7\n",
       "\n",
       "| <!--/--> | Reference &lt;int&gt; | Indicator &lt;chr&gt; | Target &lt;int&gt; | Weight &lt;int&gt; | Hamming Distance &lt;int&gt; | JSON Path &lt;chr&gt; | Label &lt;chr&gt; |\n",
       "|---|---|---|---|---|---|---|---|\n",
       "| 1 | 0 | <!----> | 0 | 1 | 0 | diseases.ICD10:D50.diseaseCode.id.ICD10:D50 | iron deficiency anaemia |\n",
       "| 2 | 0 | <!----> | 0 | 1 | 0 | diseases.ICD10:E06.diseaseCode.id.ICD10:E06 | thyroiditis             |\n",
       "| 3 | 0 | <!----> | 0 | 1 | 0 | diseases.ICD10:J40.diseaseCode.id.ICD10:J40 | acute bronchitis        |\n",
       "| 4 | 0 | <!----> | 0 | 1 | 0 | diseases.ICD10:J45.diseaseCode.id.ICD10:J45 | asthma                  |\n",
       "| 5 | 0 | <!----> | 0 | 1 | 0 | diseases.ICD10:K02.diseaseCode.id.ICD10:K02 | dental caries           |\n",
       "| 6 | 0 | <!----> | 0 | 1 | 0 | ethnicity.id.NCIT:C16352                    | Black or Black British  |\n",
       "\n"
      ],
      "text/plain": [
       "  Reference Indicator Target Weight Hamming Distance\n",
       "1 0                   0      1      0               \n",
       "2 0                   0      1      0               \n",
       "3 0                   0      1      0               \n",
       "4 0                   0      1      0               \n",
       "5 0                   0      1      0               \n",
       "6 0                   0      1      0               \n",
       "  JSON Path                                   Label                  \n",
       "1 diseases.ICD10:D50.diseaseCode.id.ICD10:D50 iron deficiency anaemia\n",
       "2 diseases.ICD10:E06.diseaseCode.id.ICD10:E06 thyroiditis            \n",
       "3 diseases.ICD10:J40.diseaseCode.id.ICD10:J40 acute bronchitis       \n",
       "4 diseases.ICD10:J45.diseaseCode.id.ICD10:J45 asthma                 \n",
       "5 diseases.ICD10:K02.diseaseCode.id.ICD10:K02 dental caries          \n",
       "6 ethnicity.id.NCIT:C16352                    Black or Black British "
      ]
     },
     "metadata": {},
     "output_type": "display_data"
    }
   ],
   "source": [
    "pat_id <- \"HG00100\"\n",
    "\n",
    "# alignment_df\n",
    "filtered_df <- alignment_df[alignment_df[, 1] == pat_id, ]\n",
    "\n",
    "# remove the first column\n",
    "filtered_df <- filtered_df[, -1]\n",
    "colnames(filtered_df) <- c(\n",
    "  \"Reference\", \"Indicator\",\n",
    "  \"Target\", \"Weight\",\n",
    "  \"Hamming Distance\", \"JSON Path\", \"Label\"\n",
    ")\n",
    "head(filtered_df)"
   ]
  },
  {
   "cell_type": "code",
   "execution_count": 24,
   "metadata": {
    "vscode": {
     "languageId": "r"
    }
   },
   "outputs": [
    {
     "data": {
      "text/html": [
       "<table class=\"dataframe\">\n",
       "<caption>A data.frame: 6 × 8</caption>\n",
       "<thead>\n",
       "\t<tr><th></th><th scope=col>Reference</th><th scope=col>Indicator</th><th scope=col>Target</th><th scope=col>Weight</th><th scope=col>Hamming Distance</th><th scope=col>JSON Path</th><th scope=col>Label</th><th scope=col>color</th></tr>\n",
       "\t<tr><th></th><th scope=col>&lt;int&gt;</th><th scope=col>&lt;chr&gt;</th><th scope=col>&lt;int&gt;</th><th scope=col>&lt;int&gt;</th><th scope=col>&lt;int&gt;</th><th scope=col>&lt;chr&gt;</th><th scope=col>&lt;chr&gt;</th><th scope=col>&lt;chr&gt;</th></tr>\n",
       "</thead>\n",
       "<tbody>\n",
       "\t<tr><th scope=row>1</th><td>0</td><td>     </td><td>0</td><td>1</td><td>0</td><td>diseases.ICD10:D50.diseaseCode.id.ICD10:D50</td><td>iron deficiency anaemia</td><td>rgb(158, 1, 66) </td></tr>\n",
       "\t<tr><th scope=row>2</th><td>0</td><td>     </td><td>0</td><td>1</td><td>0</td><td>diseases.ICD10:E06.diseaseCode.id.ICD10:E06</td><td>thyroiditis            </td><td>rgb(158, 1, 66) </td></tr>\n",
       "\t<tr><th scope=row>3</th><td>0</td><td>     </td><td>0</td><td>1</td><td>0</td><td>diseases.ICD10:J40.diseaseCode.id.ICD10:J40</td><td>acute bronchitis       </td><td>rgb(158, 1, 66) </td></tr>\n",
       "\t<tr><th scope=row>4</th><td>0</td><td>     </td><td>0</td><td>1</td><td>0</td><td>diseases.ICD10:J45.diseaseCode.id.ICD10:J45</td><td>asthma                 </td><td>rgb(158, 1, 66) </td></tr>\n",
       "\t<tr><th scope=row>5</th><td>0</td><td>     </td><td>0</td><td>1</td><td>0</td><td>diseases.ICD10:K02.diseaseCode.id.ICD10:K02</td><td>dental caries          </td><td>rgb(158, 1, 66) </td></tr>\n",
       "\t<tr><th scope=row>6</th><td>0</td><td>     </td><td>0</td><td>1</td><td>0</td><td>ethnicity.id.NCIT:C16352                   </td><td>Black or Black British </td><td>rgb(213, 62, 79)</td></tr>\n",
       "</tbody>\n",
       "</table>\n"
      ],
      "text/latex": [
       "A data.frame: 6 × 8\n",
       "\\begin{tabular}{r|llllllll}\n",
       "  & Reference & Indicator & Target & Weight & Hamming Distance & JSON Path & Label & color\\\\\n",
       "  & <int> & <chr> & <int> & <int> & <int> & <chr> & <chr> & <chr>\\\\\n",
       "\\hline\n",
       "\t1 & 0 &       & 0 & 1 & 0 & diseases.ICD10:D50.diseaseCode.id.ICD10:D50 & iron deficiency anaemia & rgb(158, 1, 66) \\\\\n",
       "\t2 & 0 &       & 0 & 1 & 0 & diseases.ICD10:E06.diseaseCode.id.ICD10:E06 & thyroiditis             & rgb(158, 1, 66) \\\\\n",
       "\t3 & 0 &       & 0 & 1 & 0 & diseases.ICD10:J40.diseaseCode.id.ICD10:J40 & acute bronchitis        & rgb(158, 1, 66) \\\\\n",
       "\t4 & 0 &       & 0 & 1 & 0 & diseases.ICD10:J45.diseaseCode.id.ICD10:J45 & asthma                  & rgb(158, 1, 66) \\\\\n",
       "\t5 & 0 &       & 0 & 1 & 0 & diseases.ICD10:K02.diseaseCode.id.ICD10:K02 & dental caries           & rgb(158, 1, 66) \\\\\n",
       "\t6 & 0 &       & 0 & 1 & 0 & ethnicity.id.NCIT:C16352                    & Black or Black British  & rgb(213, 62, 79)\\\\\n",
       "\\end{tabular}\n"
      ],
      "text/markdown": [
       "\n",
       "A data.frame: 6 × 8\n",
       "\n",
       "| <!--/--> | Reference &lt;int&gt; | Indicator &lt;chr&gt; | Target &lt;int&gt; | Weight &lt;int&gt; | Hamming Distance &lt;int&gt; | JSON Path &lt;chr&gt; | Label &lt;chr&gt; | color &lt;chr&gt; |\n",
       "|---|---|---|---|---|---|---|---|---|\n",
       "| 1 | 0 | <!----> | 0 | 1 | 0 | diseases.ICD10:D50.diseaseCode.id.ICD10:D50 | iron deficiency anaemia | rgb(158, 1, 66)  |\n",
       "| 2 | 0 | <!----> | 0 | 1 | 0 | diseases.ICD10:E06.diseaseCode.id.ICD10:E06 | thyroiditis             | rgb(158, 1, 66)  |\n",
       "| 3 | 0 | <!----> | 0 | 1 | 0 | diseases.ICD10:J40.diseaseCode.id.ICD10:J40 | acute bronchitis        | rgb(158, 1, 66)  |\n",
       "| 4 | 0 | <!----> | 0 | 1 | 0 | diseases.ICD10:J45.diseaseCode.id.ICD10:J45 | asthma                  | rgb(158, 1, 66)  |\n",
       "| 5 | 0 | <!----> | 0 | 1 | 0 | diseases.ICD10:K02.diseaseCode.id.ICD10:K02 | dental caries           | rgb(158, 1, 66)  |\n",
       "| 6 | 0 | <!----> | 0 | 1 | 0 | ethnicity.id.NCIT:C16352                    | Black or Black British  | rgb(213, 62, 79) |\n",
       "\n"
      ],
      "text/plain": [
       "  Reference Indicator Target Weight Hamming Distance\n",
       "1 0                   0      1      0               \n",
       "2 0                   0      1      0               \n",
       "3 0                   0      1      0               \n",
       "4 0                   0      1      0               \n",
       "5 0                   0      1      0               \n",
       "6 0                   0      1      0               \n",
       "  JSON Path                                   Label                  \n",
       "1 diseases.ICD10:D50.diseaseCode.id.ICD10:D50 iron deficiency anaemia\n",
       "2 diseases.ICD10:E06.diseaseCode.id.ICD10:E06 thyroiditis            \n",
       "3 diseases.ICD10:J40.diseaseCode.id.ICD10:J40 acute bronchitis       \n",
       "4 diseases.ICD10:J45.diseaseCode.id.ICD10:J45 asthma                 \n",
       "5 diseases.ICD10:K02.diseaseCode.id.ICD10:K02 dental caries          \n",
       "6 ethnicity.id.NCIT:C16352                    Black or Black British \n",
       "  color           \n",
       "1 rgb(158, 1, 66) \n",
       "2 rgb(158, 1, 66) \n",
       "3 rgb(158, 1, 66) \n",
       "4 rgb(158, 1, 66) \n",
       "5 rgb(158, 1, 66) \n",
       "6 rgb(213, 62, 79)"
      ]
     },
     "metadata": {},
     "output_type": "display_data"
    }
   ],
   "source": [
    "json_path_col <- filtered_df$`JSON Path`\n",
    "# json_path_col\n",
    "\n",
    "# remove everything after the first dot\n",
    "top_levels <- gsub(\"\\\\..*\", \"\", json_path_vector)\n",
    "# print(top_levels)\n",
    "\n",
    "input_format <- \"bff\"\n",
    "color_map <- json_data[[input_format]]\n",
    "# color_map\n",
    "\n",
    "color_col <- unlist(lapply(top_levels, function(x) color_map[[x]]))\n",
    "\n",
    "# add the color col to the dataframe\n",
    "filtered_df$color <- color_col\n",
    "head(filtered_df)"
   ]
  },
  {
   "cell_type": "code",
   "execution_count": 42,
   "metadata": {
    "vscode": {
     "languageId": "r"
    }
   },
   "outputs": [],
   "source": [
    "rowCallback <- JS(\n",
    "  \"function(row, data, index) {\n",
    "    var color = data[data.length - 1] || 'rgb(255,255,255)'; \n",
    "    $('td', row).css('background-color', color) ;\n",
    "  }\"\n",
    ")\n",
    "\n",
    "# hide the last column using a initComplete callback\n",
    "initComplete <- JS(\n",
    "  \"function(settings, json) {\n",
    "    var table = settings.oInstance.api();\n",
    "    console.log(table);\n",
    "    table.column(8).visible(false);\n",
    "  }\"\n",
    ")\n",
    "\n",
    "dt <- datatable(\n",
    "  filtered_df,\n",
    "  escape = FALSE,\n",
    "  options = list(\n",
    "    autoWidth = TRUE,\n",
    "    columnDefs = list(\n",
    "      list(\n",
    "        targets = \"_all\",\n",
    "        width = \"5px\"\n",
    "      )\n",
    "    ),\n",
    "    paging = FALSE,\n",
    "    searching = TRUE,\n",
    "    info = FALSE,\n",
    "    scrollX = TRUE,\n",
    "    scrollY = \"500px\",\n",
    "    rowCallback = rowCallback,\n",
    "    initComplete = initComplete\n",
    "  )) %>% formatStyle(\n",
    "    columns = 6, # Apply style to the JSON Path column\n",
    "    `white-space` = \"nowrap\",\n",
    "    `overflow` = \"hidden\",\n",
    "    `text-overflow` = \"ellipsis\",\n",
    "    `max-width` = \"300px\", # Restrict the cell's width\n",
    "    `cursor` = \"pointer\"\n",
    "  )\n",
    "\n",
    "saved_wiget_path <- \"notebooks/saved_widgets\"\n",
    "widget_fn <- \"blast.html\"\n",
    "\n",
    "saveWidget(\n",
    "  dt,\n",
    "  file.path(\n",
    "    saved_wiget_path,\n",
    "    widget_fn\n",
    "  )\n",
    ")\n"
   ]
  },
  {
   "cell_type": "code",
   "execution_count": 43,
   "metadata": {
    "vscode": {
     "languageId": "r"
    }
   },
   "outputs": [
    {
     "data": {
      "text/html": [
       "<iframe src='http://localhost:5500/jupyrenv/notebooks/saved_widgets/blast.html' width='100%' height='500px'></iframe>"
      ]
     },
     "metadata": {},
     "output_type": "display_data"
    }
   ],
   "source": [
    "# make sure that vscode is running the live server\n",
    "live_server_path <- \"http://localhost:5500/jupyrenv/notebooks/saved_widgets\"\n",
    "iframe_src <- paste0(\n",
    "  live_server_path,\n",
    "  \"/\",\n",
    "  widget_fn\n",
    ")\n",
    "\n",
    "display_html(\n",
    "  paste0(\n",
    "    \"<iframe src='\",\n",
    "    iframe_src,\n",
    "    \"' width='100%' height='500px'></iframe>\"\n",
    "  )\n",
    ")"
   ]
  },
  {
   "cell_type": "code",
   "execution_count": 33,
   "metadata": {
    "vscode": {
     "languageId": "r"
    }
   },
   "outputs": [
    {
     "ename": "ERROR",
     "evalue": "Error: object 'header_row' not found\n",
     "output_type": "error",
     "traceback": [
      "Error: object 'header_row' not found\nTraceback:\n",
      "1. sprintf(\"$(thead).closest('thead').prepend('<tr><th></th>%s</tr>');\", \n .     header_row)   # at line 120 of file /tmp/RtmpR05y29/R.INSTALL2e157f45a507b9/htmlwidgets/R/utils.R",
      "2. .handleSimpleError(function (cnd) \n . {\n .     watcher$capture_plot_and_output()\n .     cnd <- sanitize_call(cnd)\n .     watcher$push(cnd)\n .     switch(on_error, continue = invokeRestart(\"eval_continue\"), \n .         stop = invokeRestart(\"eval_stop\"), error = invokeRestart(\"eval_error\", \n .             cnd))\n . }, \"object 'header_row' not found\", base::quote(eval(expr, envir)))"
     ]
    }
   ],
   "source": [
    "# JavaScript to prepend the header row\n",
    "headerCallback <- JS(\n",
    "  \"function(thead, data, start, end, display) {\",\n",
    "  sprintf(\"$(thead).closest('thead').prepend('<tr><th></th>%s</tr>');\", header_row),\n",
    "  \"}\"\n",
    ")\n",
    "\n",
    "\n",
    "# JavaScript to color the columns based on the values in the 2nd row of the data\n",
    "initComplete <- JS(\n",
    "  \"function(settings, json) {\",\n",
    "  \"$('tbody tr').each(function() {\",\n",
    "    # Loop over each column to set background color based on the value in the first row (background-color)\n",
    "    \"for (var i = 0; i < $('tbody tr:eq(0) td').length; i++) {\",\n",
    "      \"var color = $('tbody tr:eq(0)').find('td:eq(' + i + ')').text();\",\n",
    "      \"console.log(color);\",\n",
    "\n",
    "      # Apply background color to the cell\n",
    "      \"$('tbody tr').find('td:eq(' + i + ')').css('background-color', color);\",\n",
    "      \"$('thead th.sorting').eq(i).css('background-color', color);\",  # Apply background color to the header\n",
    "\n",
    "      # hide the row with the colors\n",
    "      \"$('tbody tr').eq(0).hide();\",\n",
    "    \"}\",\n",
    "  \"});\",\n",
    "  \"}\"\n",
    ")\n",
    "\n",
    "# remove row 2 and 3\n",
    "bin_df3 <- bin_df2[-c(2, 3),]\n",
    "\n",
    "dt <- datatable(\n",
    "  bin_df3,\n",
    "  rownames = FALSE,\n",
    "  escape = FALSE,\n",
    "  options = list(\n",
    "    headerCallback = headerCallback,\n",
    "    initComplete = initComplete\n",
    "  )\n",
    ")\n",
    "\n",
    "saved_wiget_path <- \"notebooks/saved_widgets\"\n",
    "widget_fn <- \"blast.html\"\n",
    "\n",
    "saveWidget(\n",
    "  dt,\n",
    "  file.path(\n",
    "    saved_wiget_path,\n",
    "    widget_fn\n",
    "  )\n",
    ")\n"
   ]
  },
  {
   "cell_type": "code",
   "execution_count": 32,
   "metadata": {
    "vscode": {
     "languageId": "r"
    }
   },
   "outputs": [
    {
     "data": {
      "text/html": [
       "<iframe src='http://localhost:5500/jupyrenv/notebooks/saved_widgets/blast.html' width='100%' height='500px'></iframe>"
      ]
     },
     "metadata": {},
     "output_type": "display_data"
    }
   ],
   "source": [
    "# make sure that vscode is running the live server\n",
    "live_server_path <- \"http://localhost:5500/jupyrenv/notebooks/saved_widgets\"\n",
    "iframe_src <- paste0(\n",
    "  live_server_path,\n",
    "  \"/\",\n",
    "  widget_fn\n",
    ")\n",
    "\n",
    "display_html(\n",
    "  paste0(\n",
    "    \"<iframe src='\",\n",
    "    iframe_src,\n",
    "    \"' width='100%' height='500px'></iframe>\"\n",
    "  )\n",
    ")"
   ]
  },
  {
   "cell_type": "code",
   "execution_count": null,
   "metadata": {
    "vscode": {
     "languageId": "r"
    }
   },
   "outputs": [],
   "source": []
  }
 ],
 "metadata": {
  "kernelspec": {
   "display_name": "R",
   "language": "R",
   "name": "ir"
  },
  "language_info": {
   "codemirror_mode": "r",
   "file_extension": ".r",
   "mimetype": "text/x-r-source",
   "name": "R",
   "pygments_lexer": "r",
   "version": "4.4.1"
  }
 },
 "nbformat": 4,
 "nbformat_minor": 2
}
